{
 "cells": [
  {
   "cell_type": "markdown",
   "metadata": {},
   "source": [
    "# MNIST\n",
    "\n",
    "Training of a small MLP on MNIST with MSE loss\n",
    "- MLP = Multi-Layer Perceptron\n",
    "- MSE = Mean Squared Errors\n",
    "\n",
    "[Original resource here](https://github.com/pytorch/examples/blob/master/mnist/main.py)"
   ]
  },
  {
   "cell_type": "code",
   "execution_count": 2,
   "metadata": {},
   "outputs": [],
   "source": [
    "%matplotlib inline\n",
    "%load_ext autoreload\n",
    "%autoreload 2"
   ]
  },
  {
   "cell_type": "code",
   "execution_count": 3,
   "metadata": {},
   "outputs": [],
   "source": [
    "import numpy as np\n",
    "from matplotlib import pyplot as plt"
   ]
  },
  {
   "cell_type": "code",
   "execution_count": 4,
   "metadata": {},
   "outputs": [],
   "source": [
    "from __future__ import print_function\n",
    "import argparse\n",
    "import torch\n",
    "import torch.nn as nn\n",
    "import torch.nn.functional as F\n",
    "import torch.optim as optim\n",
    "from torchvision import datasets, transforms"
   ]
  },
  {
   "cell_type": "code",
   "execution_count": 5,
   "metadata": {},
   "outputs": [],
   "source": [
    "# Training settings\n",
    "batch_size=64 #m\n",
    "epochs=5\n",
    "lr=0.01\n",
    "momentum=0.0\n",
    "seed=1101\n",
    "\n",
    "din=784\n",
    "dout=10\n",
    "dh=50\n",
    "\n",
    "nbatches=30 # n.batches to evaluate statistics"
   ]
  },
  {
   "cell_type": "code",
   "execution_count": 10,
   "metadata": {},
   "outputs": [],
   "source": [
    "class Net(nn.Module):\n",
    "    \"\"\" \n",
    "    Simple neural network fee-forward model with one hidden layer:\n",
    "    The inputs are linearly combined and then passed through a sigmoid activation function.\n",
    "    \"\"\"\n",
    "    def __init__(self,din=784, dh=30, dout=10):\n",
    "        super(Net, self).__init__()\n",
    "        \n",
    "        self.lin1 = nn.Linear(din, dh)\n",
    "        self.lin2 = nn.Linear(dh, dout)\n",
    "    \n",
    "    def forward(self, x):    \n",
    "        x = torch.sigmoid(self.lin1(x)) \n",
    "        return self.lin2(x)"
   ]
  },
  {
   "cell_type": "markdown",
   "metadata": {},
   "source": [
    "### MSE loss\n",
    "\n",
    "Lines which are specific to MSE loss are marked with *"
   ]
  },
  {
   "cell_type": "markdown",
   "metadata": {},
   "source": [
    "**NOTE** Torch tensors have method `to()` (see [doc](https://pytorch.org/docs/stable/tensors.html)), which allow to define a particular device in which to store them"
   ]
  },
  {
   "cell_type": "markdown",
   "metadata": {},
   "source": [
    "We here define the training function, it uses MSE for computing the loss "
   ]
  },
  {
   "cell_type": "code",
   "execution_count": 16,
   "metadata": {},
   "outputs": [],
   "source": [
    "criterion = nn.MSELoss() # *\n",
    "\n",
    "def train(model, device, train_loader, optimizer, epoch):\n",
    "    model.train()\n",
    "    \n",
    "\n",
    "    for batch_idx, (data, target) in enumerate(train_loader):\n",
    "        \n",
    "        # push data (i.e. input values) and targets (i.e. labels) to\n",
    "        # the device defined to store and compute \n",
    "        # ( basically in here we are copying data and target to new objects stored in the required device )\n",
    "        data, target = data.to(device), target.to(device)\n",
    "        \n",
    "        \n",
    "        data = data.view(-1,784) # *\n",
    "        target = target.view(-1,1) # *\n",
    "        onehot = torch.FloatTensor(data.shape[0], 10).zero_().to(device) # *\n",
    "        # From documentation of torch tensors:\n",
    "        # scatter_(dim, index, src) → Tensor\n",
    "        # Writes all values from the tensor src into self at the indices specified in the index tensor. \n",
    "        # For each value in src, its output index is specified by its index in src for dimension != dim \n",
    "        # and by the corresponding value in index for dimension = di\n",
    "        onehot.scatter_(1, target, 1) # *\n",
    "        target = onehot # *\n",
    "    \n",
    "        # this line is needed to not sum-up the new gradients with the old ones\n",
    "        optimizer.zero_grad()\n",
    "        \n",
    "        # this returns the predicted value after last training step\n",
    "        output = model(data)\n",
    "        \n",
    "        # compute the loss function with criterion defined above\n",
    "        loss = criterion(output, target)\n",
    "        \n",
    "        # backpropagate the new gradients\n",
    "        loss.backward()\n",
    "        \n",
    "        # update the value of the parameters with the newly computed gradients\n",
    "        optimizer.step()"
   ]
  },
  {
   "cell_type": "markdown",
   "metadata": {},
   "source": [
    "Did not get what this is doing:"
   ]
  },
  {
   "cell_type": "code",
   "execution_count": 18,
   "metadata": {},
   "outputs": [],
   "source": [
    "def stats(model, device, loader, nsamples=batch_size*nbatches):\n",
    "    \"\"\"\n",
    "    Returns value of the loss function and of the accuracy of the model\n",
    "    for current epoch (also, prints on screen these values)\n",
    "    \"\"\"\n",
    "    \n",
    "    model.eval() \n",
    "    \n",
    "    loss = 0\n",
    "    correct = 0\n",
    "    count = 0\n",
    "    \n",
    "    origin = 'train' if loader.dataset.train else 'test'\n",
    "    \n",
    "    with torch.no_grad():\n",
    "        \n",
    "        for data, target in loader:\n",
    "            \n",
    "            count += data.shape[0]\n",
    "                \n",
    "            if count > nsamples:\n",
    "                break\n",
    "                \n",
    "            data, target = data.to(device), target.to(device)     \n",
    "            \n",
    "            \n",
    "            data = data.view(-1,784) # *\n",
    "            target = target.view(-1,1) # *\n",
    "            onehot = torch.FloatTensor(data.shape[0], 10).zero_().to(device) # *\n",
    "            onehot.scatter_(1, target, 1) # *\n",
    "            \n",
    "    \n",
    "            output = model(data)\n",
    "            \n",
    "            loss += criterion(output, onehot).item()\n",
    "            pred = output.argmax(dim=1, keepdim=True) # get the index of the max log-probability\n",
    "            correct += pred.eq(target.view_as(pred)).sum().item()\n",
    "\n",
    "    loss /= count  \n",
    "    acc = 100. * correct / count\n",
    "    \n",
    "\n",
    "    print('\\n{} set: Average loss: {:.4f}, Accuracy: {}/{} ({:.0f}%)\\n'.format(origin,\n",
    "        loss, correct, count,\n",
    "        acc ) )\n",
    "    \n",
    "    \n",
    "    return loss,acc"
   ]
  },
  {
   "cell_type": "markdown",
   "metadata": {},
   "source": [
    "Defining some hiperparameters"
   ]
  },
  {
   "cell_type": "code",
   "execution_count": 13,
   "metadata": {},
   "outputs": [],
   "source": [
    "use_cuda = torch.cuda.is_available()\n",
    "torch.manual_seed(seed)\n",
    "device = torch.device(\"cuda\" if use_cuda else \"cpu\")\n",
    "kwargs = {'num_workers': 1, 'pin_memory': True} if use_cuda else {}"
   ]
  },
  {
   "cell_type": "markdown",
   "metadata": {},
   "source": [
    "And here we define the loaders for train and test sets:"
   ]
  },
  {
   "cell_type": "code",
   "execution_count": 14,
   "metadata": {},
   "outputs": [],
   "source": [
    "train_loader = torch.utils.data.DataLoader(\n",
    "        datasets.MNIST('../data', train=True, download=True,\n",
    "                       transform=transforms.Compose([\n",
    "                           transforms.ToTensor(),\n",
    "                           transforms.Normalize((0.1307,), (0.3081,))\n",
    "                       ])),\n",
    "        batch_size=batch_size, shuffle=True, **kwargs)\n",
    "test_loader = torch.utils.data.DataLoader(\n",
    "        datasets.MNIST('../data', train=False, transform=transforms.Compose([\n",
    "                           transforms.ToTensor(),\n",
    "                           transforms.Normalize((0.1307,), (0.3081,))\n",
    "                       ])),\n",
    "        batch_size=batch_size, shuffle=True, **kwargs)"
   ]
  },
  {
   "cell_type": "markdown",
   "metadata": {},
   "source": [
    "We define the model and save it on the required device"
   ]
  },
  {
   "cell_type": "code",
   "execution_count": 15,
   "metadata": {},
   "outputs": [],
   "source": [
    "model = Net(din,dh,dout).to(device)"
   ]
  },
  {
   "cell_type": "markdown",
   "metadata": {},
   "source": [
    "We define the **optimizer** i.e. the algorithm that will be used to **back-propagate** the newly computed gradients, in this case **stocasthic gradient descent** (SGD)."
   ]
  },
  {
   "cell_type": "code",
   "execution_count": 10,
   "metadata": {},
   "outputs": [],
   "source": [
    "optimizer = optim.SGD(model.parameters(), lr=lr, momentum=momentum)"
   ]
  },
  {
   "cell_type": "markdown",
   "metadata": {},
   "source": [
    "We train the model for `epochs` epochs"
   ]
  },
  {
   "cell_type": "code",
   "execution_count": 11,
   "metadata": {},
   "outputs": [
    {
     "name": "stdout",
     "output_type": "stream",
     "text": [
      "\n",
      "train set: Average loss: 0.0009, Accuracy: 1423/1984 (72%)\n",
      "\n",
      "\n",
      "test set: Average loss: 0.0009, Accuracy: 1433/1984 (72%)\n",
      "\n",
      "\n",
      "train set: Average loss: 0.0008, Accuracy: 1540/1984 (78%)\n",
      "\n",
      "\n",
      "test set: Average loss: 0.0008, Accuracy: 1540/1984 (78%)\n",
      "\n",
      "\n",
      "train set: Average loss: 0.0007, Accuracy: 1561/1984 (79%)\n",
      "\n",
      "\n",
      "test set: Average loss: 0.0007, Accuracy: 1572/1984 (79%)\n",
      "\n",
      "\n",
      "train set: Average loss: 0.0007, Accuracy: 1589/1984 (80%)\n",
      "\n",
      "\n",
      "test set: Average loss: 0.0007, Accuracy: 1595/1984 (80%)\n",
      "\n",
      "\n",
      "train set: Average loss: 0.0007, Accuracy: 1608/1984 (81%)\n",
      "\n",
      "\n",
      "test set: Average loss: 0.0007, Accuracy: 1635/1984 (82%)\n",
      "\n"
     ]
    }
   ],
   "source": [
    "train_stats = []\n",
    "test_stats = []\n",
    "\n",
    "for epoch in range(1, epochs + 1):\n",
    "    \n",
    "    train(model, device, train_loader, optimizer, epoch)\n",
    "    \n",
    "    train_stats.append(stats(model, device, train_loader))\n",
    "    test_stats.append(stats(model, device, test_loader))\n",
    "    \n",
    "train_stats = np.array(train_stats)\n",
    "test_stats = np.array(test_stats)"
   ]
  },
  {
   "cell_type": "code",
   "execution_count": 12,
   "metadata": {},
   "outputs": [
    {
     "data": {
      "image/png": "[encoded data removed]",
      "text/plain": [
       "<Figure size 720x360 with 2 Axes>"
      ]
     },
     "metadata": {
      "needs_background": "light"
     },
     "output_type": "display_data"
    }
   ],
   "source": [
    "fig=plt.figure(figsize=(10,5))\n",
    "\n",
    "plt.subplot(121)\n",
    "plt.plot(train_stats[:,0],'-k',label='train loss')\n",
    "plt.plot(test_stats[:,0],'-r',label='test loss')\n",
    "plt.xlabel('epoch')\n",
    "plt.ylabel('loss')\n",
    "plt.legend()\n",
    "\n",
    "plt.subplot(122)\n",
    "plt.plot(train_stats[:,1],'-k',label='train acc')\n",
    "plt.plot(test_stats[:,1],'-r',label='test acc')\n",
    "plt.xlabel('epoch')\n",
    "plt.ylabel('acc')\n",
    "plt.legend()\n",
    "\n",
    "\n",
    "plt.show()"
   ]
  },
  {
   "cell_type": "markdown",
   "metadata": {},
   "source": [
    "# Exercises\n",
    "\n",
    "Experiment with this problem changing:\n",
    "\n",
    "- size of hidden layer\n",
    "- adding another hidden layer\n",
    "- store accuracy and loss on training and test set\n",
    "\n",
    "Go to the documentation and see how to save/load models"
   ]
  },
  {
   "cell_type": "code",
   "execution_count": null,
   "metadata": {},
   "outputs": [],
   "source": []
  }
 ],
 "metadata": {
  "kernelspec": {
   "display_name": "Python 3",
   "language": "python",
   "name": "python3"
  },
  "language_info": {
   "codemirror_mode": {
    "name": "ipython",
    "version": 3
   },
   "file_extension": ".py",
   "mimetype": "text/x-python",
   "name": "python",
   "nbconvert_exporter": "python",
   "pygments_lexer": "ipython3",
   "version": "3.7.1"
  }
 },
 "nbformat": 4,
 "nbformat_minor": 2
}
