{
 "cells": [
  {
   "cell_type": "markdown",
   "metadata": {},
   "source": [
    "# First encouter with PyTorch\n",
    "\n",
    "\n",
    "Let us explore the basics of PyTorch.\n",
    "\n",
    "\n",
    "This notebook is a modified version of [this](https://pytorch.org/tutorials/beginner/pytorch_with_examples.html) more extensive introduction to the language."
   ]
  },
  {
   "cell_type": "code",
   "execution_count": 14,
   "metadata": {},
   "outputs": [],
   "source": [
    "%matplotlib inline"
   ]
  },
  {
   "cell_type": "markdown",
   "metadata": {},
   "source": [
    "### Import the torch library"
   ]
  },
  {
   "cell_type": "code",
   "execution_count": 15,
   "metadata": {},
   "outputs": [],
   "source": [
    "# !pip install torchsummary"
   ]
  },
  {
   "cell_type": "code",
   "execution_count": 17,
   "metadata": {},
   "outputs": [],
   "source": [
    "import torch\n",
    "from torchsummary import summary"
   ]
  },
  {
   "cell_type": "code",
   "execution_count": 19,
   "metadata": {},
   "outputs": [],
   "source": [
    "device = torch.device('cpu')\n",
    "#device = torch.device('cuda') # Uncomment this to run on GPU"
   ]
  },
  {
   "cell_type": "markdown",
   "metadata": {},
   "source": [
    "### Create artificial dataset\n"
   ]
  },
  {
   "cell_type": "code",
   "execution_count": 20,
   "metadata": {},
   "outputs": [],
   "source": [
    "n = 1000\n",
    "\n",
    "din = 100 # input dimension\n",
    "dh = 30 # hidden layer dimension\n",
    "dout = 10 # output dimension"
   ]
  },
  {
   "cell_type": "code",
   "execution_count": 21,
   "metadata": {},
   "outputs": [],
   "source": [
    "input_size = (din,)"
   ]
  },
  {
   "cell_type": "code",
   "execution_count": 54,
   "metadata": {},
   "outputs": [],
   "source": [
    "# create random tensors\n",
    "x = torch.randn(n, din, device=device)\n",
    "y = torch.randn(n, dout, device=device)"
   ]
  },
  {
   "cell_type": "code",
   "execution_count": 55,
   "metadata": {},
   "outputs": [],
   "source": [
    "?torch.randn"
   ]
  },
  {
   "cell_type": "code",
   "execution_count": 56,
   "metadata": {},
   "outputs": [
    {
     "name": "stdout",
     "output_type": "stream",
     "text": [
      "torch.Size([1000, 100]) torch.Size([1000, 10])\n"
     ]
    }
   ],
   "source": [
    "print(x.shape, y.shape)"
   ]
  },
  {
   "cell_type": "markdown",
   "metadata": {},
   "source": [
    "### Define a simple network"
   ]
  },
  {
   "cell_type": "code",
   "execution_count": 57,
   "metadata": {},
   "outputs": [],
   "source": [
    "model = torch.nn.Sequential(\n",
    "          torch.nn.Linear(din, dh, bias=True),\n",
    "          torch.nn.Sigmoid(),\n",
    "          torch.nn.Linear(dh, dout),\n",
    "        ).to(device)"
   ]
  },
  {
   "cell_type": "code",
   "execution_count": 58,
   "metadata": {},
   "outputs": [
    {
     "name": "stdout",
     "output_type": "stream",
     "text": [
      "Sequential(\n",
      "  (0): Linear(in_features=100, out_features=30, bias=True)\n",
      "  (1): Sigmoid()\n",
      "  (2): Linear(in_features=30, out_features=10, bias=True)\n",
      ")\n"
     ]
    }
   ],
   "source": [
    "print(model)"
   ]
  },
  {
   "cell_type": "code",
   "execution_count": 59,
   "metadata": {},
   "outputs": [
    {
     "name": "stdout",
     "output_type": "stream",
     "text": [
      "----------------------------------------------------------------\n",
      "        Layer (type)               Output Shape         Param #\n",
      "================================================================\n",
      "            Linear-1                   [-1, 30]           3,030\n",
      "           Sigmoid-2                   [-1, 30]               0\n",
      "            Linear-3                   [-1, 10]             310\n",
      "================================================================\n",
      "Total params: 3,340\n",
      "Trainable params: 3,340\n",
      "Non-trainable params: 0\n",
      "----------------------------------------------------------------\n",
      "Input size (MB): 0.00\n",
      "Forward/backward pass size (MB): 0.00\n",
      "Params size (MB): 0.01\n",
      "Estimated Total Size (MB): 0.01\n",
      "----------------------------------------------------------------\n"
     ]
    }
   ],
   "source": [
    "summary(model, input_size)"
   ]
  },
  {
   "cell_type": "code",
   "execution_count": 60,
   "metadata": {},
   "outputs": [],
   "source": [
    "d1 = 100\n",
    "d2 = 30\n",
    "\n",
    "model2 = torch.nn.Sequential(\n",
    "          torch.nn.Linear(din, d1, bias=True),\n",
    "          torch.nn.Sigmoid(),\n",
    "          torch.nn.Linear(d1, d2, bias=True),\n",
    "          torch.nn.Sigmoid(),\n",
    "          torch.nn.Linear(d2, dout),\n",
    "        ).to(device)"
   ]
  },
  {
   "cell_type": "code",
   "execution_count": 61,
   "metadata": {},
   "outputs": [
    {
     "name": "stdout",
     "output_type": "stream",
     "text": [
      "----------------------------------------------------------------\n",
      "        Layer (type)               Output Shape         Param #\n",
      "================================================================\n",
      "            Linear-1                  [-1, 100]          10,100\n",
      "           Sigmoid-2                  [-1, 100]               0\n",
      "            Linear-3                   [-1, 30]           3,030\n",
      "           Sigmoid-4                   [-1, 30]               0\n",
      "            Linear-5                   [-1, 10]             310\n",
      "================================================================\n",
      "Total params: 13,440\n",
      "Trainable params: 13,440\n",
      "Non-trainable params: 0\n",
      "----------------------------------------------------------------\n",
      "Input size (MB): 0.00\n",
      "Forward/backward pass size (MB): 0.00\n",
      "Params size (MB): 0.05\n",
      "Estimated Total Size (MB): 0.05\n",
      "----------------------------------------------------------------\n"
     ]
    }
   ],
   "source": [
    "summary(model2, input_size)"
   ]
  },
  {
   "cell_type": "markdown",
   "metadata": {},
   "source": [
    "### Exercise\n",
    "\n",
    "- Explain the number of parameters reported\n",
    "- Scaling of the number of parameters with the number of units\n",
    "- Define an identical network with ReLU activation function"
   ]
  },
  {
   "cell_type": "markdown",
   "metadata": {},
   "source": [
    "### Evaluate the network on data\n",
    "\n",
    "\n",
    "The network is a function of x. Evaluating it is as plain as possible."
   ]
  },
  {
   "cell_type": "code",
   "execution_count": 62,
   "metadata": {},
   "outputs": [],
   "source": [
    "y_pred = model(x)"
   ]
  },
  {
   "cell_type": "code",
   "execution_count": 63,
   "metadata": {},
   "outputs": [
    {
     "name": "stdout",
     "output_type": "stream",
     "text": [
      "torch.Size([1000, 10])\n"
     ]
    }
   ],
   "source": [
    "print(y_pred.shape)"
   ]
  },
  {
   "cell_type": "markdown",
   "metadata": {},
   "source": [
    "### Define a loss function"
   ]
  },
  {
   "cell_type": "code",
   "execution_count": 64,
   "metadata": {},
   "outputs": [],
   "source": [
    "loss_fn = torch.nn.MSELoss(reduction='mean')"
   ]
  },
  {
   "cell_type": "code",
   "execution_count": 65,
   "metadata": {},
   "outputs": [],
   "source": [
    "loss = loss_fn(y_pred,y)"
   ]
  },
  {
   "cell_type": "code",
   "execution_count": 66,
   "metadata": {},
   "outputs": [
    {
     "data": {
      "text/plain": [
       "float"
      ]
     },
     "execution_count": 66,
     "metadata": {},
     "output_type": "execute_result"
    }
   ],
   "source": [
    "type(loss.item())"
   ]
  },
  {
   "cell_type": "code",
   "execution_count": 67,
   "metadata": {},
   "outputs": [
    {
     "name": "stdout",
     "output_type": "stream",
     "text": [
      "1.1202483177185059\n"
     ]
    }
   ],
   "source": [
    "print(loss.item())"
   ]
  },
  {
   "cell_type": "code",
   "execution_count": 68,
   "metadata": {},
   "outputs": [
    {
     "name": "stdout",
     "output_type": "stream",
     "text": [
      "torch.Size([30, 100])\n",
      "torch.Size([30])\n",
      "torch.Size([10, 30])\n",
      "torch.Size([10])\n"
     ]
    }
   ],
   "source": [
    "for p in model.parameters():\n",
    "    print(p.shape)"
   ]
  },
  {
   "cell_type": "code",
   "execution_count": 69,
   "metadata": {},
   "outputs": [
    {
     "name": "stdout",
     "output_type": "stream",
     "text": [
      "Parameter containing:\n",
      "tensor([[ 0.0114,  0.0167,  0.0804,  ...,  0.0948, -0.0544,  0.0371],\n",
      "        [-0.0560, -0.0593, -0.0401,  ...,  0.0345,  0.0629, -0.0186],\n",
      "        [ 0.0033,  0.0993, -0.0793,  ...,  0.0542, -0.0039,  0.0250],\n",
      "        ...,\n",
      "        [ 0.0782, -0.0736, -0.0812,  ...,  0.0901,  0.0101, -0.0552],\n",
      "        [-0.0133, -0.0175,  0.0100,  ...,  0.0240,  0.0994, -0.0762],\n",
      "        [-0.0775,  0.0587, -0.0216,  ...,  0.0609,  0.0466, -0.0160]],\n",
      "       requires_grad=True)\n",
      "Parameter containing:\n",
      "tensor([ 0.0471, -0.0600,  0.0924, -0.0328, -0.0514,  0.0067,  0.0321, -0.0569,\n",
      "        -0.0497,  0.0137,  0.0094, -0.0896, -0.0083,  0.0680,  0.0067, -0.0156,\n",
      "        -0.0493, -0.0854, -0.0710, -0.0044, -0.0460, -0.0744, -0.0973,  0.0801,\n",
      "         0.0174, -0.0292,  0.0023,  0.0336, -0.0596, -0.0625],\n",
      "       requires_grad=True)\n",
      "Parameter containing:\n",
      "tensor([[ 0.1435, -0.0104, -0.1503,  0.0325,  0.0375, -0.1224,  0.0096, -0.0555,\n",
      "          0.1462, -0.0328,  0.0888, -0.0384,  0.1142, -0.0145, -0.1690,  0.0942,\n",
      "         -0.1531, -0.0430,  0.0810,  0.0732,  0.0489,  0.0372,  0.0555,  0.1801,\n",
      "          0.0306,  0.0633,  0.1388,  0.0646, -0.1543,  0.0121],\n",
      "        [-0.0004, -0.0113, -0.0656,  0.1188,  0.1670,  0.0966,  0.0159, -0.0217,\n",
      "          0.0489,  0.1037,  0.0190, -0.0029, -0.1496, -0.1105,  0.0137, -0.1729,\n",
      "          0.0349, -0.0117,  0.1718, -0.0704, -0.1703,  0.1417,  0.0635,  0.0521,\n",
      "         -0.1741,  0.1118,  0.0429,  0.1476, -0.1593,  0.1644],\n",
      "        [ 0.0650, -0.0581,  0.0070, -0.1751,  0.0934,  0.1093,  0.0188, -0.1387,\n",
      "         -0.0844, -0.1779, -0.1321,  0.0245,  0.1766,  0.0403,  0.1436,  0.1515,\n",
      "          0.0689, -0.0924,  0.0053, -0.0847,  0.1565,  0.0652, -0.0224, -0.1384,\n",
      "          0.1738,  0.1067,  0.0429,  0.0710,  0.1095, -0.0703],\n",
      "        [ 0.1331,  0.0223,  0.0350, -0.0638,  0.1152,  0.1526,  0.1482,  0.0252,\n",
      "          0.1191,  0.1805, -0.0904, -0.1599,  0.0066, -0.0595,  0.1662, -0.0790,\n",
      "         -0.0518,  0.0957,  0.1556, -0.0775, -0.0471,  0.0465,  0.1729, -0.0532,\n",
      "          0.0114, -0.0054,  0.1628,  0.1565, -0.0883, -0.0536],\n",
      "        [ 0.1253,  0.1131, -0.1206, -0.0651,  0.1788,  0.0664, -0.0878,  0.0191,\n",
      "         -0.0128, -0.0349, -0.0283,  0.1301, -0.1386, -0.0428, -0.0089, -0.1418,\n",
      "         -0.0648,  0.0048,  0.0871,  0.0764, -0.0379, -0.0615, -0.0690, -0.0131,\n",
      "          0.0991,  0.1456, -0.1624, -0.1807, -0.1778, -0.0572],\n",
      "        [-0.0922,  0.0315,  0.1498,  0.0475, -0.0998,  0.1818, -0.0580, -0.1164,\n",
      "         -0.0196, -0.1678,  0.0744,  0.1401, -0.0420, -0.0416, -0.0345, -0.1271,\n",
      "         -0.0557,  0.0504, -0.1692,  0.1215, -0.1447,  0.0247, -0.1159,  0.0380,\n",
      "          0.1514,  0.0525, -0.0818, -0.1353, -0.0338,  0.0615],\n",
      "        [-0.0974,  0.1304,  0.1426,  0.0156, -0.1529,  0.1325,  0.0947,  0.0740,\n",
      "          0.0193,  0.1483,  0.1662, -0.0477,  0.1661, -0.1724, -0.1251,  0.0294,\n",
      "          0.1205, -0.0732, -0.0471, -0.1572,  0.1287,  0.1700,  0.0120,  0.1106,\n",
      "         -0.1710, -0.1135, -0.1792,  0.0517,  0.0380,  0.1668],\n",
      "        [-0.0032,  0.0888,  0.1713, -0.0435,  0.0815, -0.1437, -0.0563,  0.0518,\n",
      "          0.1115,  0.1325,  0.1375,  0.0476,  0.0753, -0.1458,  0.1755,  0.0366,\n",
      "          0.1420,  0.0343, -0.1223,  0.1010, -0.0034,  0.0475,  0.0125,  0.1741,\n",
      "         -0.0744,  0.0261,  0.1399, -0.0216, -0.1342,  0.0396],\n",
      "        [ 0.1764, -0.1415,  0.0530,  0.1060, -0.0151,  0.0355,  0.1605,  0.0288,\n",
      "          0.0732, -0.0790,  0.1245,  0.1808,  0.1752, -0.0898,  0.0077, -0.0298,\n",
      "          0.0469,  0.1344, -0.1183, -0.0559, -0.1721, -0.0178,  0.1365, -0.0166,\n",
      "         -0.0913,  0.0113,  0.1141, -0.1198,  0.1397, -0.1039],\n",
      "        [ 0.1705,  0.0503, -0.0008,  0.0343,  0.0465, -0.0390,  0.0714, -0.1748,\n",
      "         -0.1505,  0.0581,  0.0144, -0.1197,  0.1355,  0.1589,  0.1697,  0.0660,\n",
      "          0.0316,  0.0067,  0.1242,  0.1106,  0.0398,  0.0343,  0.0725,  0.1215,\n",
      "         -0.1494, -0.0316,  0.1334, -0.1480, -0.1469, -0.1310]],\n",
      "       requires_grad=True)\n",
      "Parameter containing:\n",
      "tensor([ 0.0364,  0.1265, -0.0684, -0.1257, -0.0517,  0.1728, -0.0738,  0.1384,\n",
      "         0.0101, -0.1483], requires_grad=True)\n"
     ]
    }
   ],
   "source": [
    "for p in model.parameters():\n",
    "    print(p)"
   ]
  },
  {
   "cell_type": "code",
   "execution_count": 82,
   "metadata": {},
   "outputs": [
    {
     "data": {
      "text/plain": [
       "Parameter containing:\n",
       "tensor([ 0.0145,  0.1029, -0.0782, -0.1537, -0.0337,  0.1751, -0.0848,  0.0963,\n",
       "        -0.0106, -0.1592], requires_grad=True)"
      ]
     },
     "execution_count": 82,
     "metadata": {},
     "output_type": "execute_result"
    }
   ],
   "source": [
    "A  = list(model.parameters())[-1]\n",
    "A"
   ]
  },
  {
   "cell_type": "code",
   "execution_count": 83,
   "metadata": {},
   "outputs": [],
   "source": [
    "A.requires_grad=True"
   ]
  },
  {
   "cell_type": "code",
   "execution_count": 84,
   "metadata": {},
   "outputs": [
    {
     "name": "stdout",
     "output_type": "stream",
     "text": [
      "True\n",
      "True\n",
      "True\n",
      "True\n"
     ]
    }
   ],
   "source": [
    "for p in model.parameters():\n",
    "    print(p.requires_grad)"
   ]
  },
  {
   "cell_type": "markdown",
   "metadata": {},
   "source": [
    "### Training"
   ]
  },
  {
   "cell_type": "code",
   "execution_count": 73,
   "metadata": {},
   "outputs": [],
   "source": [
    "lr = 1e-4\n",
    "nepochs = 5000\n",
    "training_loss = []"
   ]
  },
  {
   "cell_type": "code",
   "execution_count": 74,
   "metadata": {},
   "outputs": [],
   "source": [
    "for t in range(nepochs):\n",
    "    \n",
    "    y_pred = model(x)\n",
    "    \n",
    "    loss = loss_fn(y_pred, y)\n",
    "    training_loss.append(loss.item())\n",
    "    \n",
    "    \n",
    "    # ---------------------------------   Modification of the parameters due to the loss\n",
    "    \n",
    "    # Zero the gradients before running the backward pass.\n",
    "    model.zero_grad()\n",
    "\n",
    "    # Backward pass: compute gradient of the loss with respect to all the learnable\n",
    "    # parameters of the model. Internally, the parameters of each Module are stored\n",
    "    # in Tensors with requires_grad=True, so this call will compute gradients for\n",
    "    # all learnable parameters in the model.\n",
    "    \n",
    "    loss.backward()\n",
    "\n",
    "    # Update the weights using gradient descent. Each parameter is a Tensor, so\n",
    "    # we can access its data and gradients like we did before.\n",
    "    \n",
    "    with torch.no_grad():\n",
    "        for param in model.parameters():\n",
    "            param.data -= lr * param.grad\n",
    "            \n",
    "    # -----------------------------------------------------------------------------------"
   ]
  },
  {
   "cell_type": "code",
   "execution_count": 75,
   "metadata": {},
   "outputs": [
    {
     "data": {
      "image/png": "[encoded data removed]",
      "text/plain": [
       "<Figure size 432x288 with 1 Axes>"
      ]
     },
     "metadata": {
      "needs_background": "light"
     },
     "output_type": "display_data"
    }
   ],
   "source": [
    "from matplotlib import pyplot as plt\n",
    "plt.plot(training_loss,'-')\n",
    "plt.xlabel('epoch')\n",
    "plt.ylabel('loss')\n",
    "plt.show()"
   ]
  },
  {
   "cell_type": "markdown",
   "metadata": {},
   "source": [
    "This example is meant just to illustrate the basic PyTorch machinery at work: it is not representative of true learning problems since there is no separate test set against which to evaluate the algorithm. We will use the MNIST dataset for our following experiments."
   ]
  },
  {
   "cell_type": "markdown",
   "metadata": {},
   "source": [
    "# Another way\n",
    "\n",
    "This is another way to define a network in PyTorch: we define a class with its methods. \n",
    "It will be useful when we will create new methods to extract representations."
   ]
  },
  {
   "cell_type": "code",
   "execution_count": 87,
   "metadata": {},
   "outputs": [],
   "source": [
    "import torch.nn as nn"
   ]
  },
  {
   "cell_type": "code",
   "execution_count": 88,
   "metadata": {},
   "outputs": [],
   "source": [
    "class Net(nn.Module):\n",
    "    def __init__(self,din=784, dh=30, dout=10):\n",
    "        super(Net, self).__init__()\n",
    "        \n",
    "        self.lin1 = nn.Linear(din, dh)\n",
    "        self.lin2 = nn.Linear(dh, dout)\n",
    "    \n",
    "    def forward(self, x):    \n",
    "        x = torch.sigmoid(self.lin1(x)) \n",
    "        return self.lin2(x)\n",
    "    \n",
    "    #-----------------------------------------------------#\n",
    "    def extract(self,x):\n",
    "        return torch.sigmoid(self.lin1(x))"
   ]
  },
  {
   "cell_type": "code",
   "execution_count": 89,
   "metadata": {},
   "outputs": [],
   "source": [
    "model2 = Net(din,dh,dout).to(device)"
   ]
  },
  {
   "cell_type": "code",
   "execution_count": 90,
   "metadata": {},
   "outputs": [
    {
     "name": "stdout",
     "output_type": "stream",
     "text": [
      "Sequential(\n",
      "  (0): Linear(in_features=100, out_features=30, bias=True)\n",
      "  (1): Sigmoid()\n",
      "  (2): Linear(in_features=30, out_features=10, bias=True)\n",
      ")\n",
      "Net(\n",
      "  (lin1): Linear(in_features=100, out_features=30, bias=True)\n",
      "  (lin2): Linear(in_features=30, out_features=10, bias=True)\n",
      ")\n"
     ]
    }
   ],
   "source": [
    "print(model)\n",
    "print(model2)"
   ]
  },
  {
   "cell_type": "code",
   "execution_count": 92,
   "metadata": {},
   "outputs": [
    {
     "name": "stdout",
     "output_type": "stream",
     "text": [
      "----------------------------------------------------------------\n",
      "        Layer (type)               Output Shape         Param #\n",
      "================================================================\n",
      "            Linear-1                   [-1, 30]           3,030\n",
      "           Sigmoid-2                   [-1, 30]               0\n",
      "            Linear-3                   [-1, 10]             310\n",
      "================================================================\n",
      "Total params: 3,340\n",
      "Trainable params: 3,340\n",
      "Non-trainable params: 0\n",
      "----------------------------------------------------------------\n",
      "Input size (MB): 0.00\n",
      "Forward/backward pass size (MB): 0.00\n",
      "Params size (MB): 0.01\n",
      "Estimated Total Size (MB): 0.01\n",
      "----------------------------------------------------------------\n",
      "None\n",
      "----------------------------------------------------------------\n",
      "        Layer (type)               Output Shape         Param #\n",
      "================================================================\n",
      "            Linear-1                   [-1, 30]           3,030\n",
      "           Sigmoid-2                   [-1, 30]               0\n",
      "            Linear-3                   [-1, 10]             310\n",
      "================================================================\n",
      "Total params: 3,340\n",
      "Trainable params: 3,340\n",
      "Non-trainable params: 0\n",
      "----------------------------------------------------------------\n",
      "Input size (MB): 0.00\n",
      "Forward/backward pass size (MB): 0.00\n",
      "Params size (MB): 0.01\n",
      "Estimated Total Size (MB): 0.01\n",
      "----------------------------------------------------------------\n",
      "None\n"
     ]
    }
   ],
   "source": [
    "print(summary(model,input_size))\n",
    "print(summary(model, input_size))"
   ]
  },
  {
   "cell_type": "code",
   "execution_count": 93,
   "metadata": {},
   "outputs": [],
   "source": [
    "assert(model2.extract(x).shape[1] == dh)"
   ]
  },
  {
   "cell_type": "code",
   "execution_count": null,
   "metadata": {},
   "outputs": [],
   "source": []
  }
 ],
 "metadata": {
  "kernelspec": {
   "display_name": "Python 3",
   "language": "python",
   "name": "python3"
  },
  "language_info": {
   "codemirror_mode": {
    "name": "ipython",
    "version": 3
   },
   "file_extension": ".py",
   "mimetype": "text/x-python",
   "name": "python",
   "nbconvert_exporter": "python",
   "pygments_lexer": "ipython3",
   "version": "3.7.1"
  }
 },
 "nbformat": 4,
 "nbformat_minor": 2
}
