{
 "cells": [
  {
   "cell_type": "markdown",
   "metadata": {},
   "source": [
    "# First encouter with PyTorch\n",
    "\n",
    "\n",
    "Let us explore the basics of PyTorch.\n",
    "\n",
    "\n",
    "This notebook is a modified version of [this](https://pytorch.org/tutorials/beginner/pytorch_with_examples.html) more extensive introduction to the language."
   ]
  },
  {
   "cell_type": "code",
   "execution_count": 1,
   "metadata": {},
   "outputs": [],
   "source": [
    "%matplotlib inline"
   ]
  },
  {
   "cell_type": "markdown",
   "metadata": {},
   "source": [
    "### Import the torch library"
   ]
  },
  {
   "cell_type": "code",
   "execution_count": 2,
   "metadata": {},
   "outputs": [],
   "source": [
    "# !pip install torchsummary"
   ]
  },
  {
   "cell_type": "code",
   "execution_count": 3,
   "metadata": {},
   "outputs": [],
   "source": [
    "import torch\n",
    "from torchsummary import summary"
   ]
  },
  {
   "cell_type": "code",
   "execution_count": 4,
   "metadata": {},
   "outputs": [],
   "source": [
    "device = torch.device('cpu')\n",
    "#device = torch.device('cuda') # Uncomment this to run on GPU"
   ]
  },
  {
   "cell_type": "markdown",
   "metadata": {},
   "source": [
    "### Create artificial dataset\n"
   ]
  },
  {
   "cell_type": "code",
   "execution_count": 5,
   "metadata": {},
   "outputs": [],
   "source": [
    "n = 1000\n",
    "\n",
    "din = 100 # input dimension\n",
    "dh = 30 # hidden layer dimension\n",
    "dout = 10 # output dimension"
   ]
  },
  {
   "cell_type": "code",
   "execution_count": 6,
   "metadata": {},
   "outputs": [],
   "source": [
    "input_size = (din,)"
   ]
  },
  {
   "cell_type": "code",
   "execution_count": 7,
   "metadata": {},
   "outputs": [],
   "source": [
    "# create random tensors\n",
    "x = torch.randn(n, din, device=device)\n",
    "y = torch.randn(n, dout, device=device)"
   ]
  },
  {
   "cell_type": "code",
   "execution_count": 8,
   "metadata": {},
   "outputs": [],
   "source": [
    "?torch.randn"
   ]
  },
  {
   "cell_type": "code",
   "execution_count": 9,
   "metadata": {},
   "outputs": [
    {
     "name": "stdout",
     "output_type": "stream",
     "text": [
      "torch.Size([1000, 100]) torch.Size([1000, 10])\n"
     ]
    }
   ],
   "source": [
    "print(x.shape, y.shape)"
   ]
  },
  {
   "cell_type": "markdown",
   "metadata": {},
   "source": [
    "### Define a simple network"
   ]
  },
  {
   "cell_type": "code",
   "execution_count": 10,
   "metadata": {},
   "outputs": [],
   "source": [
    "model = torch.nn.Sequential(\n",
    "          torch.nn.Linear(din, dh, bias=True),\n",
    "          torch.nn.Sigmoid(),\n",
    "          torch.nn.Linear(dh, dout),\n",
    "        ).to(device)"
   ]
  },
  {
   "cell_type": "code",
   "execution_count": 11,
   "metadata": {},
   "outputs": [
    {
     "name": "stdout",
     "output_type": "stream",
     "text": [
      "Sequential(\n",
      "  (0): Linear(in_features=100, out_features=30, bias=True)\n",
      "  (1): Sigmoid()\n",
      "  (2): Linear(in_features=30, out_features=10, bias=True)\n",
      ")\n"
     ]
    }
   ],
   "source": [
    "print(model)"
   ]
  },
  {
   "cell_type": "code",
   "execution_count": 12,
   "metadata": {},
   "outputs": [
    {
     "name": "stdout",
     "output_type": "stream",
     "text": [
      "----------------------------------------------------------------\n",
      "        Layer (type)               Output Shape         Param #\n",
      "================================================================\n",
      "            Linear-1                   [-1, 30]           3,030\n",
      "           Sigmoid-2                   [-1, 30]               0\n",
      "            Linear-3                   [-1, 10]             310\n",
      "================================================================\n",
      "Total params: 3,340\n",
      "Trainable params: 3,340\n",
      "Non-trainable params: 0\n",
      "----------------------------------------------------------------\n",
      "Input size (MB): 0.00\n",
      "Forward/backward pass size (MB): 0.00\n",
      "Params size (MB): 0.01\n",
      "Estimated Total Size (MB): 0.01\n",
      "----------------------------------------------------------------\n"
     ]
    }
   ],
   "source": [
    "summary(model, input_size)"
   ]
  },
  {
   "cell_type": "code",
   "execution_count": 13,
   "metadata": {},
   "outputs": [],
   "source": [
    "d1 = 100\n",
    "d2 = 30\n",
    "\n",
    "model2 = torch.nn.Sequential(\n",
    "          torch.nn.Linear(din, d1, bias=True),\n",
    "          torch.nn.Sigmoid(),\n",
    "          torch.nn.Linear(d1, d2, bias=True),\n",
    "          torch.nn.Sigmoid(),\n",
    "          torch.nn.Linear(d2, dout),\n",
    "        ).to(device)"
   ]
  },
  {
   "cell_type": "code",
   "execution_count": 14,
   "metadata": {},
   "outputs": [
    {
     "name": "stdout",
     "output_type": "stream",
     "text": [
      "----------------------------------------------------------------\n",
      "        Layer (type)               Output Shape         Param #\n",
      "================================================================\n",
      "            Linear-1                  [-1, 100]          10,100\n",
      "           Sigmoid-2                  [-1, 100]               0\n",
      "            Linear-3                   [-1, 30]           3,030\n",
      "           Sigmoid-4                   [-1, 30]               0\n",
      "            Linear-5                   [-1, 10]             310\n",
      "================================================================\n",
      "Total params: 13,440\n",
      "Trainable params: 13,440\n",
      "Non-trainable params: 0\n",
      "----------------------------------------------------------------\n",
      "Input size (MB): 0.00\n",
      "Forward/backward pass size (MB): 0.00\n",
      "Params size (MB): 0.05\n",
      "Estimated Total Size (MB): 0.05\n",
      "----------------------------------------------------------------\n"
     ]
    }
   ],
   "source": [
    "summary(model2, input_size)"
   ]
  },
  {
   "cell_type": "markdown",
   "metadata": {},
   "source": [
    "### Exercise\n",
    "\n",
    "- Explain the number of parameters reported\n",
    "- Scaling of the number of parameters with the number of units\n",
    "- Define an identical network with ReLU activation function"
   ]
  },
  {
   "cell_type": "markdown",
   "metadata": {},
   "source": [
    "### Evaluate the network on data\n",
    "\n",
    "\n",
    "The network is a function of x. Evaluating it is as plain as possible."
   ]
  },
  {
   "cell_type": "code",
   "execution_count": 15,
   "metadata": {},
   "outputs": [],
   "source": [
    "y_pred = model(x)"
   ]
  },
  {
   "cell_type": "code",
   "execution_count": 16,
   "metadata": {},
   "outputs": [
    {
     "name": "stdout",
     "output_type": "stream",
     "text": [
      "torch.Size([1000, 10])\n"
     ]
    }
   ],
   "source": [
    "print(y_pred.shape)"
   ]
  },
  {
   "cell_type": "markdown",
   "metadata": {},
   "source": [
    "### Define a loss function"
   ]
  },
  {
   "cell_type": "code",
   "execution_count": 17,
   "metadata": {},
   "outputs": [],
   "source": [
    "loss_fn = torch.nn.MSELoss(reduction='mean')"
   ]
  },
  {
   "cell_type": "code",
   "execution_count": 18,
   "metadata": {},
   "outputs": [],
   "source": [
    "loss = loss_fn(y_pred,y)"
   ]
  },
  {
   "cell_type": "code",
   "execution_count": 19,
   "metadata": {},
   "outputs": [
    {
     "data": {
      "text/plain": [
       "float"
      ]
     },
     "execution_count": 19,
     "metadata": {},
     "output_type": "execute_result"
    }
   ],
   "source": [
    "type(loss.item())"
   ]
  },
  {
   "cell_type": "code",
   "execution_count": 20,
   "metadata": {},
   "outputs": [
    {
     "name": "stdout",
     "output_type": "stream",
     "text": [
      "1.0690429210662842\n"
     ]
    }
   ],
   "source": [
    "print(loss.item())"
   ]
  },
  {
   "cell_type": "code",
   "execution_count": 21,
   "metadata": {},
   "outputs": [
    {
     "name": "stdout",
     "output_type": "stream",
     "text": [
      "torch.Size([30, 100])\n",
      "torch.Size([30])\n",
      "torch.Size([10, 30])\n",
      "torch.Size([10])\n"
     ]
    }
   ],
   "source": [
    "for p in model.parameters():\n",
    "    print(p.shape)"
   ]
  },
  {
   "cell_type": "code",
   "execution_count": 22,
   "metadata": {},
   "outputs": [
    {
     "name": "stdout",
     "output_type": "stream",
     "text": [
      "Parameter containing:\n",
      "tensor([[-0.0103, -0.0159,  0.0546,  ..., -0.0286, -0.0953,  0.0004],\n",
      "        [ 0.0714,  0.0211, -0.0754,  ..., -0.0877, -0.0608,  0.0911],\n",
      "        [-0.0262,  0.0877,  0.0878,  ...,  0.0042,  0.0238, -0.0101],\n",
      "        ...,\n",
      "        [-0.0767,  0.0210,  0.0548,  ...,  0.0441,  0.0238,  0.0164],\n",
      "        [-0.0260, -0.0902, -0.0055,  ..., -0.0797,  0.0468, -0.0148],\n",
      "        [-0.0725,  0.0579, -0.0307,  ...,  0.0499, -0.0866, -0.0054]],\n",
      "       requires_grad=True)\n",
      "Parameter containing:\n",
      "tensor([-0.0983, -0.0937, -0.0492,  0.0324, -0.0197, -0.0559, -0.0123,  0.0941,\n",
      "         0.0359, -0.0158,  0.0548, -0.0469,  0.0983, -0.0282,  0.0374, -0.0561,\n",
      "         0.0555, -0.0964, -0.0325, -0.0783,  0.0779, -0.0043, -0.0010, -0.0472,\n",
      "        -0.0089,  0.0880,  0.0521, -0.0583,  0.0034,  0.0804],\n",
      "       requires_grad=True)\n",
      "Parameter containing:\n",
      "tensor([[ 0.1202, -0.0557,  0.0264, -0.1336,  0.1716, -0.0638, -0.0936,  0.0499,\n",
      "         -0.1020,  0.0974, -0.1493, -0.0378,  0.1184,  0.0745, -0.1679, -0.0088,\n",
      "          0.0160,  0.0344,  0.1113, -0.0945,  0.0049, -0.1526,  0.1148,  0.0408,\n",
      "          0.1179,  0.1744,  0.0380,  0.0211, -0.0056, -0.1095],\n",
      "        [-0.1624,  0.0674, -0.0742, -0.1403,  0.1029,  0.1755, -0.1535,  0.0134,\n",
      "         -0.1378, -0.1304, -0.1073, -0.1644, -0.1543,  0.1036,  0.0640, -0.0796,\n",
      "         -0.1607,  0.1672,  0.1700,  0.1569, -0.0365,  0.0864, -0.0291, -0.1016,\n",
      "          0.0320, -0.1497, -0.1389,  0.0795, -0.0835,  0.1184],\n",
      "        [ 0.0931,  0.0295,  0.1155, -0.1811, -0.0762,  0.1716,  0.1769,  0.1123,\n",
      "         -0.1825, -0.1432,  0.1585, -0.1533, -0.0552,  0.0607,  0.1244, -0.1033,\n",
      "         -0.1401, -0.0427,  0.1826,  0.1092,  0.0766, -0.1593, -0.1774, -0.0274,\n",
      "         -0.0261,  0.0703,  0.0210, -0.1150, -0.0163, -0.1396],\n",
      "        [-0.1543,  0.0992,  0.0411, -0.1585,  0.1806, -0.0528,  0.1453,  0.1019,\n",
      "          0.1807,  0.0822,  0.0140,  0.0236, -0.1102, -0.0090,  0.0583,  0.1666,\n",
      "         -0.0108, -0.0275,  0.1184,  0.0277, -0.0728, -0.0604,  0.1074,  0.0642,\n",
      "         -0.1790, -0.1443, -0.1276, -0.1805,  0.0495, -0.1111],\n",
      "        [-0.1390, -0.1371, -0.0506, -0.1564, -0.0151,  0.1763, -0.1777, -0.0732,\n",
      "          0.0990,  0.0083, -0.1348, -0.0617,  0.1518, -0.1086, -0.0388, -0.1392,\n",
      "         -0.0175,  0.0811, -0.0247,  0.0629,  0.1659,  0.0259, -0.0665, -0.1483,\n",
      "         -0.1537, -0.0128,  0.1336, -0.0110,  0.0039, -0.0290],\n",
      "        [-0.1561, -0.1747, -0.1080,  0.1075, -0.1076,  0.1497, -0.1385,  0.1563,\n",
      "          0.1056,  0.1814,  0.0322,  0.0984, -0.1448,  0.0093,  0.0641, -0.1310,\n",
      "         -0.0003, -0.1019, -0.0441,  0.1755, -0.0592,  0.1325,  0.0349, -0.0312,\n",
      "         -0.0099, -0.0057,  0.1045,  0.0078,  0.0381, -0.0197],\n",
      "        [ 0.1619, -0.0628, -0.1425, -0.0869,  0.1015,  0.0572, -0.1276, -0.0989,\n",
      "          0.1074,  0.1722,  0.0847, -0.0567,  0.0033,  0.0892, -0.1307,  0.0604,\n",
      "         -0.1428,  0.0419, -0.1766, -0.0327, -0.0805,  0.0550, -0.1146,  0.0578,\n",
      "         -0.0314,  0.0675, -0.0920, -0.0734,  0.1241, -0.0347],\n",
      "        [-0.0970, -0.0269,  0.0511, -0.1331,  0.1232,  0.0182,  0.0043, -0.0748,\n",
      "         -0.0977, -0.0291, -0.1210, -0.0304, -0.0904, -0.1176,  0.0683,  0.0556,\n",
      "         -0.0977,  0.0864, -0.0298,  0.0361, -0.1645,  0.1617, -0.1653,  0.0911,\n",
      "          0.0010, -0.0683,  0.0016,  0.0028,  0.1336, -0.1119],\n",
      "        [ 0.1156, -0.0212, -0.0838,  0.1534,  0.1791,  0.1635, -0.1171, -0.0126,\n",
      "         -0.0789,  0.1463,  0.1179, -0.1478,  0.0650, -0.1454,  0.0430,  0.1525,\n",
      "          0.1586, -0.1545,  0.0430, -0.0952, -0.1690,  0.0371, -0.0128, -0.0781,\n",
      "         -0.0356, -0.1592, -0.1694, -0.0734,  0.0128, -0.0773],\n",
      "        [-0.0838,  0.0787, -0.1224, -0.0710,  0.1144, -0.0375, -0.0961,  0.1614,\n",
      "          0.0154, -0.0283, -0.0414, -0.1601,  0.1278, -0.0118, -0.0728, -0.0543,\n",
      "         -0.1497, -0.1721, -0.1787,  0.0855,  0.1793,  0.0123,  0.1138,  0.0318,\n",
      "         -0.1043,  0.1489, -0.0507, -0.1522, -0.0606,  0.1137]],\n",
      "       requires_grad=True)\n",
      "Parameter containing:\n",
      "tensor([ 0.0331, -0.0336,  0.1307,  0.0551,  0.1299,  0.0452,  0.0231, -0.0743,\n",
      "         0.0150, -0.0791], requires_grad=True)\n"
     ]
    }
   ],
   "source": [
    "for p in model.parameters():\n",
    "    print(p)"
   ]
  },
  {
   "cell_type": "code",
   "execution_count": 23,
   "metadata": {},
   "outputs": [
    {
     "data": {
      "text/plain": [
       "Parameter containing:\n",
       "tensor([ 0.0331, -0.0336,  0.1307,  0.0551,  0.1299,  0.0452,  0.0231, -0.0743,\n",
       "         0.0150, -0.0791], requires_grad=True)"
      ]
     },
     "execution_count": 23,
     "metadata": {},
     "output_type": "execute_result"
    }
   ],
   "source": [
    "A  = list(model.parameters())[-1]\n",
    "A"
   ]
  },
  {
   "cell_type": "code",
   "execution_count": 24,
   "metadata": {},
   "outputs": [],
   "source": [
    "A.requires_grad=True"
   ]
  },
  {
   "cell_type": "code",
   "execution_count": 25,
   "metadata": {},
   "outputs": [
    {
     "name": "stdout",
     "output_type": "stream",
     "text": [
      "True\n",
      "True\n",
      "True\n",
      "True\n"
     ]
    }
   ],
   "source": [
    "for p in model.parameters():\n",
    "    print(p.requires_grad)"
   ]
  },
  {
   "cell_type": "markdown",
   "metadata": {},
   "source": [
    "### Training"
   ]
  },
  {
   "cell_type": "code",
   "execution_count": 26,
   "metadata": {},
   "outputs": [],
   "source": [
    "lr = 1e-4\n",
    "nepochs = 5000\n",
    "training_loss = []"
   ]
  },
  {
   "cell_type": "code",
   "execution_count": 27,
   "metadata": {},
   "outputs": [],
   "source": [
    "for t in range(nepochs):\n",
    "    \n",
    "    y_pred = model(x)\n",
    "    \n",
    "    loss = loss_fn(y_pred, y)\n",
    "    training_loss.append(loss.item())\n",
    "    \n",
    "    \n",
    "    # ---------------------------------   Modification of the parameters due to the loss\n",
    "    \n",
    "    # Zero the gradients before running the backward pass.\n",
    "    model.zero_grad()\n",
    "\n",
    "    # Backward pass: compute gradient of the loss with respect to all the learnable\n",
    "    # parameters of the model. Internally, the parameters of each Module are stored\n",
    "    # in Tensors with requires_grad=True, so this call will compute gradients for\n",
    "    # all learnable parameters in the model.\n",
    "    \n",
    "    loss.backward()\n",
    "\n",
    "    # Update the weights using gradient descent. Each parameter is a Tensor, so\n",
    "    # we can access its data and gradients like we did before.\n",
    "    \n",
    "    with torch.no_grad():\n",
    "        for param in model.parameters():\n",
    "            param.data -= lr * param.grad\n",
    "            \n",
    "    # -----------------------------------------------------------------------------------"
   ]
  },
  {
   "cell_type": "code",
   "execution_count": 28,
   "metadata": {},
   "outputs": [
    {
     "data": {
      "image/png": "[encoded data removed]",
      "text/plain": [
       "<Figure size 432x288 with 1 Axes>"
      ]
     },
     "metadata": {
      "needs_background": "light"
     },
     "output_type": "display_data"
    }
   ],
   "source": [
    "from matplotlib import pyplot as plt\n",
    "plt.plot(training_loss,'-')\n",
    "plt.xlabel('epoch')\n",
    "plt.ylabel('loss')\n",
    "plt.show()"
   ]
  },
  {
   "cell_type": "markdown",
   "metadata": {},
   "source": [
    "This example is meant just to illustrate the basic PyTorch machinery at work: it is not representative of true learning problems since there is no separate test set against which to evaluate the algorithm. We will use the MNIST dataset for our following experiments."
   ]
  },
  {
   "cell_type": "markdown",
   "metadata": {},
   "source": [
    "# Another way\n",
    "\n",
    "This is another way to define a network in PyTorch: we define a class with its methods. \n",
    "It will be useful when we will create new methods to extract representations."
   ]
  },
  {
   "cell_type": "code",
   "execution_count": 29,
   "metadata": {},
   "outputs": [],
   "source": [
    "import torch.nn as nn"
   ]
  },
  {
   "cell_type": "code",
   "execution_count": 30,
   "metadata": {},
   "outputs": [],
   "source": [
    "class Net(nn.Module):\n",
    "    def __init__(self,din=784, dh=30, dout=10):\n",
    "        super(Net, self).__init__()\n",
    "        \n",
    "        self.lin1 = nn.Linear(din, dh)\n",
    "        self.lin2 = nn.Linear(dh, dout)\n",
    "    \n",
    "    def forward(self, x):    \n",
    "        x = torch.sigmoid(self.lin1(x)) \n",
    "        return self.lin2(x)\n",
    "    \n",
    "    #-----------------------------------------------------#\n",
    "    def extract(self,x):\n",
    "        return torch.sigmoid(self.lin1(x))"
   ]
  },
  {
   "cell_type": "code",
   "execution_count": 31,
   "metadata": {},
   "outputs": [],
   "source": [
    "model2 = Net(din,dh,dout).to(device)"
   ]
  },
  {
   "cell_type": "code",
   "execution_count": 32,
   "metadata": {},
   "outputs": [
    {
     "name": "stdout",
     "output_type": "stream",
     "text": [
      "Sequential(\n",
      "  (0): Linear(in_features=100, out_features=30, bias=True)\n",
      "  (1): Sigmoid()\n",
      "  (2): Linear(in_features=30, out_features=10, bias=True)\n",
      ")\n",
      "Net(\n",
      "  (lin1): Linear(in_features=100, out_features=30, bias=True)\n",
      "  (lin2): Linear(in_features=30, out_features=10, bias=True)\n",
      ")\n"
     ]
    }
   ],
   "source": [
    "print(model)\n",
    "print(model2)"
   ]
  },
  {
   "cell_type": "code",
   "execution_count": 33,
   "metadata": {},
   "outputs": [
    {
     "name": "stdout",
     "output_type": "stream",
     "text": [
      "----------------------------------------------------------------\n",
      "        Layer (type)               Output Shape         Param #\n",
      "================================================================\n",
      "            Linear-1                   [-1, 30]           3,030\n",
      "           Sigmoid-2                   [-1, 30]               0\n",
      "            Linear-3                   [-1, 10]             310\n",
      "================================================================\n",
      "Total params: 3,340\n",
      "Trainable params: 3,340\n",
      "Non-trainable params: 0\n",
      "----------------------------------------------------------------\n",
      "Input size (MB): 0.00\n",
      "Forward/backward pass size (MB): 0.00\n",
      "Params size (MB): 0.01\n",
      "Estimated Total Size (MB): 0.01\n",
      "----------------------------------------------------------------\n",
      "None\n",
      "----------------------------------------------------------------\n",
      "        Layer (type)               Output Shape         Param #\n",
      "================================================================\n",
      "            Linear-1                   [-1, 30]           3,030\n",
      "           Sigmoid-2                   [-1, 30]               0\n",
      "            Linear-3                   [-1, 10]             310\n",
      "================================================================\n",
      "Total params: 3,340\n",
      "Trainable params: 3,340\n",
      "Non-trainable params: 0\n",
      "----------------------------------------------------------------\n",
      "Input size (MB): 0.00\n",
      "Forward/backward pass size (MB): 0.00\n",
      "Params size (MB): 0.01\n",
      "Estimated Total Size (MB): 0.01\n",
      "----------------------------------------------------------------\n",
      "None\n"
     ]
    }
   ],
   "source": [
    "print(summary(model,input_size))\n",
    "print(summary(model, input_size))"
   ]
  },
  {
   "cell_type": "code",
   "execution_count": 34,
   "metadata": {},
   "outputs": [],
   "source": [
    "assert(model2.extract(x).shape[1] == dh)"
   ]
  },
  {
   "cell_type": "code",
   "execution_count": 35,
   "metadata": {},
   "outputs": [
    {
     "data": {
      "text/plain": [
       "tensor([[0.4515, 0.5448, 0.5605,  ..., 0.6237, 0.3021, 0.3531],\n",
       "        [0.5231, 0.7064, 0.4733,  ..., 0.4163, 0.3795, 0.7873],\n",
       "        [0.3264, 0.4402, 0.6784,  ..., 0.5998, 0.4201, 0.3725],\n",
       "        ...,\n",
       "        [0.4375, 0.3923, 0.4917,  ..., 0.4537, 0.5668, 0.2750],\n",
       "        [0.5744, 0.4922, 0.4707,  ..., 0.3696, 0.4645, 0.5120],\n",
       "        [0.2984, 0.4837, 0.4934,  ..., 0.3914, 0.6729, 0.6389]],\n",
       "       grad_fn=<SigmoidBackward>)"
      ]
     },
     "execution_count": 35,
     "metadata": {},
     "output_type": "execute_result"
    }
   ],
   "source": [
    "y  = model2.extract(x)\n",
    "y"
   ]
  },
  {
   "cell_type": "code",
   "execution_count": 36,
   "metadata": {},
   "outputs": [],
   "source": []
  },
  {
   "cell_type": "code",
   "execution_count": null,
   "metadata": {},
   "outputs": [],
   "source": []
  }
 ],
 "metadata": {
  "kernelspec": {
   "display_name": "Python 3",
   "language": "python",
   "name": "python3"
  },
  "language_info": {
   "codemirror_mode": {
    "name": "ipython",
    "version": 3
   },
   "file_extension": ".py",
   "mimetype": "text/x-python",
   "name": "python",
   "nbconvert_exporter": "python",
   "pygments_lexer": "ipython3",
   "version": "3.7.1"
  }
 },
 "nbformat": 4,
 "nbformat_minor": 2
}
