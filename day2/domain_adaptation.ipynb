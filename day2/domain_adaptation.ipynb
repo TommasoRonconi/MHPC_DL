{
 "cells": [
  {
   "cell_type": "markdown",
   "metadata": {},
   "source": [
    "# Domain adaptation\n",
    "\n",
    "- Unsupervised Domain Adaptation by Backpropagation, Ganin & Lemptsky (2014)\n",
    "\n",
    "\n",
    "![](da.png)\n",
    "\n",
    "https://www.youtube.com/watch?v=uUUvieVxCMs&t=1210s"
   ]
  },
  {
   "cell_type": "code",
   "execution_count": null,
   "metadata": {},
   "outputs": [],
   "source": [
    "import torch\n",
    "from torch import nn\n",
    "import torch.nn.functional as F\n",
    "from torch.utils.data import DataLoader\n",
    "from torchvision import datasets\n",
    "from torchvision import transforms\n",
    "from torch.autograd import Function\n",
    "from tqdm import tqdm\n",
    "import numpy as np\n",
    "from matplotlib import pyplot as plt\n",
    "import mnistm\n",
    "from PIL import Image"
   ]
  },
  {
   "cell_type": "code",
   "execution_count": 2,
   "metadata": {},
   "outputs": [],
   "source": [
    "class GrayscaleToRgb:\n",
    "    \"\"\"Convert a grayscale image to rgb\"\"\"\n",
    "    def __call__(self, image):\n",
    "        image = np.array(image)\n",
    "        image = np.dstack([image, image, image])\n",
    "        return Image.fromarray(image)"
   ]
  },
  {
   "cell_type": "code",
   "execution_count": 3,
   "metadata": {},
   "outputs": [],
   "source": [
    "class Net(nn.Module):\n",
    "    def __init__(self):\n",
    "        super().__init__()\n",
    "        self.feature_extractor = nn.Sequential(\n",
    "            nn.Conv2d(3, 10, kernel_size=5),\n",
    "            nn.MaxPool2d(2),\n",
    "            nn.ReLU(),\n",
    "            nn.Conv2d(10, 20, kernel_size=5),\n",
    "            nn.MaxPool2d(2),\n",
    "            nn.Dropout2d(),\n",
    "        )\n",
    "        \n",
    "        self.classifier = nn.Sequential(\n",
    "            nn.Linear(320, 50),\n",
    "            nn.ReLU(),\n",
    "            nn.Dropout(),\n",
    "            nn.Linear(50, 10),\n",
    "        )\n",
    "\n",
    "    def forward(self, x):\n",
    "        features = self.feature_extractor(x)\n",
    "        features = features.view(x.shape[0], -1)\n",
    "        logits = self.classifier(features)\n",
    "        return logits"
   ]
  },
  {
   "cell_type": "code",
   "execution_count": 4,
   "metadata": {},
   "outputs": [],
   "source": [
    "# Taken from https://github.com/jvanvugt/pytorch-domain-adaptation/\n",
    "class GradientReversalFunction(Function):\n",
    "    \"\"\"\n",
    "    Gradient Reversal Layer from:\n",
    "    Unsupervised Domain Adaptation by Backpropagation (Ganin & Lempitsky, 2015)\n",
    "    Forward pass is the identity function. In the backward pass,\n",
    "    the upstream gradients are multiplied by -lambda (i.e. gradient is reversed)\n",
    "    \"\"\"\n",
    "    \n",
    "    @staticmethod\n",
    "    def forward(ctx, x, lambda_):\n",
    "        ctx.lambda_ = lambda_\n",
    "        return x.clone()\n",
    "\n",
    "    @staticmethod\n",
    "    def backward(ctx, grads):\n",
    "        lambda_ = ctx.lambda_\n",
    "        lambda_ = grads.new_tensor(lambda_)\n",
    "        dx = -lambda_ * grads\n",
    "        return dx, None\n",
    "\n",
    "class GradientReversal(torch.nn.Module):\n",
    "    def __init__(self, lambda_=1):\n",
    "        super(GradientReversal, self).__init__()\n",
    "        self.lambda_ = lambda_\n",
    "\n",
    "    def forward(self, x):\n",
    "        return GradientReversalFunction.apply(x, self.lambda_)"
   ]
  },
  {
   "cell_type": "code",
   "execution_count": 5,
   "metadata": {},
   "outputs": [],
   "source": [
    "epochs=50\n",
    "seed = 1101\n",
    "batch_size = 64\n",
    "\n",
    "use_cuda = torch.cuda.is_available()\n",
    "torch.manual_seed(seed)\n",
    "device = torch.device(\"cuda\" if use_cuda else \"cpu\")\n",
    "kwargs = {'num_workers': 1, 'pin_memory': True} if use_cuda else {}"
   ]
  },
  {
   "cell_type": "code",
   "execution_count": 6,
   "metadata": {},
   "outputs": [],
   "source": [
    "model = Net().to(device)\n",
    "model.load_state_dict(torch.load('conv_for_domain_adaptation.pt'))"
   ]
  },
  {
   "cell_type": "code",
   "execution_count": 7,
   "metadata": {},
   "outputs": [],
   "source": [
    "feature_extractor = model.feature_extractor\n",
    "clf = model.classifier\n",
    "\n",
    "discriminator = nn.Sequential(\n",
    "    GradientReversal(),\n",
    "    nn.Linear(320, 50),\n",
    "    nn.ReLU(),\n",
    "    nn.Linear(50, 20),\n",
    "    nn.ReLU(),\n",
    "    nn.Linear(20, 1)\n",
    ").to(device)"
   ]
  },
  {
   "cell_type": "code",
   "execution_count": 8,
   "metadata": {},
   "outputs": [],
   "source": [
    "half_batch = batch_size // 2\n",
    "\n",
    "source_loader = torch.utils.data.DataLoader(\n",
    "        datasets.MNIST('../data', train=True, download=True,\n",
    "                       transform=transforms.Compose([\n",
    "                           GrayscaleToRgb(),\n",
    "                           transforms.ToTensor(),                           \n",
    "                       ])),\n",
    "        batch_size=half_batch, shuffle=True, **kwargs)"
   ]
  },
  {
   "cell_type": "code",
   "execution_count": 9,
   "metadata": {},
   "outputs": [],
   "source": [
    "target_loader = torch.utils.data.DataLoader( \n",
    "    mnistm.MNISTM('../data', train=True, download=True,\n",
    "                       transform=transforms.Compose([\n",
    "                           transforms.ToTensor(),                           \n",
    "                       ])), \n",
    "    batch_size=half_batch, shuffle=True, **kwargs)"
   ]
  },
  {
   "cell_type": "code",
   "execution_count": 10,
   "metadata": {},
   "outputs": [
    {
     "name": "stdout",
     "output_type": "stream",
     "text": [
      "torch.Size([32, 3, 28, 28])\n"
     ]
    }
   ],
   "source": [
    "imgs,labels = next(iter(target_loader))\n",
    "print(imgs.shape)"
   ]
  },
  {
   "cell_type": "code",
   "execution_count": 11,
   "metadata": {},
   "outputs": [
    {
     "data": {
      "image/png": "[encoded data removed]",
      "text/plain": [
       "<Figure size 432x288 with 1 Axes>"
      ]
     },
     "metadata": {
      "needs_background": "light"
     },
     "output_type": "display_data"
    }
   ],
   "source": [
    "plt.imshow(np.transpose(imgs[19], (1,2,0)))\n",
    "plt.show()"
   ]
  },
  {
   "cell_type": "code",
   "execution_count": 12,
   "metadata": {},
   "outputs": [],
   "source": [
    "optim = torch.optim.Adam(list(discriminator.parameters()) + list(model.parameters()))"
   ]
  },
  {
   "cell_type": "code",
   "execution_count": 13,
   "metadata": {},
   "outputs": [
    {
     "name": "stderr",
     "output_type": "stream",
     "text": [
      "  0%|          | 2/1875 [00:00<01:34, 19.87it/s]   "
     ]
    },
    {
     "name": "stdout",
     "output_type": "stream",
     "text": [
      "EPOCH 001: domain_loss=0.4521, source_accuracy=0.9002\n"
     ]
    },
    {
     "name": "stderr",
     "output_type": "stream",
     "text": [
      "  0%|          | 2/1875 [00:00<01:37, 19.30it/s]   "
     ]
    },
    {
     "name": "stdout",
     "output_type": "stream",
     "text": [
      "EPOCH 002: domain_loss=0.5404, source_accuracy=0.9124\n"
     ]
    },
    {
     "name": "stderr",
     "output_type": "stream",
     "text": [
      "  0%|          | 3/1875 [00:00<01:18, 23.86it/s]   "
     ]
    },
    {
     "name": "stdout",
     "output_type": "stream",
     "text": [
      "EPOCH 003: domain_loss=0.5477, source_accuracy=0.9223\n"
     ]
    },
    {
     "name": "stderr",
     "output_type": "stream",
     "text": [
      "  0%|          | 4/1875 [00:00<01:00, 30.91it/s]   "
     ]
    },
    {
     "name": "stdout",
     "output_type": "stream",
     "text": [
      "EPOCH 004: domain_loss=0.5273, source_accuracy=0.9259\n"
     ]
    },
    {
     "name": "stderr",
     "output_type": "stream",
     "text": [
      "  0%|          | 3/1875 [00:00<01:08, 27.16it/s]   "
     ]
    },
    {
     "name": "stdout",
     "output_type": "stream",
     "text": [
      "EPOCH 005: domain_loss=0.5131, source_accuracy=0.9294\n"
     ]
    },
    {
     "name": "stderr",
     "output_type": "stream",
     "text": [
      "  0%|          | 4/1875 [00:00<01:00, 30.94it/s]   "
     ]
    },
    {
     "name": "stdout",
     "output_type": "stream",
     "text": [
      "EPOCH 006: domain_loss=0.5074, source_accuracy=0.9330\n"
     ]
    },
    {
     "name": "stderr",
     "output_type": "stream",
     "text": [
      "  0%|          | 4/1875 [00:00<01:00, 30.93it/s]   "
     ]
    },
    {
     "name": "stdout",
     "output_type": "stream",
     "text": [
      "EPOCH 007: domain_loss=0.5072, source_accuracy=0.9345\n"
     ]
    },
    {
     "name": "stderr",
     "output_type": "stream",
     "text": [
      "  0%|          | 3/1875 [00:00<01:02, 29.73it/s]   "
     ]
    },
    {
     "name": "stdout",
     "output_type": "stream",
     "text": [
      "EPOCH 008: domain_loss=0.5106, source_accuracy=0.9344\n"
     ]
    },
    {
     "name": "stderr",
     "output_type": "stream",
     "text": [
      "  0%|          | 3/1875 [00:00<01:03, 29.33it/s]   "
     ]
    },
    {
     "name": "stdout",
     "output_type": "stream",
     "text": [
      "EPOCH 009: domain_loss=0.5153, source_accuracy=0.9352\n"
     ]
    },
    {
     "name": "stderr",
     "output_type": "stream",
     "text": [
      "  0%|          | 3/1875 [00:00<01:03, 29.51it/s]   "
     ]
    },
    {
     "name": "stdout",
     "output_type": "stream",
     "text": [
      "EPOCH 010: domain_loss=0.5155, source_accuracy=0.9351\n"
     ]
    },
    {
     "name": "stderr",
     "output_type": "stream",
     "text": [
      "  0%|          | 4/1875 [00:00<01:01, 30.52it/s]   "
     ]
    },
    {
     "name": "stdout",
     "output_type": "stream",
     "text": [
      "EPOCH 011: domain_loss=0.5138, source_accuracy=0.9374\n"
     ]
    },
    {
     "name": "stderr",
     "output_type": "stream",
     "text": [
      "  0%|          | 4/1875 [00:00<01:00, 31.03it/s]   "
     ]
    },
    {
     "name": "stdout",
     "output_type": "stream",
     "text": [
      "EPOCH 012: domain_loss=0.5199, source_accuracy=0.9376\n"
     ]
    },
    {
     "name": "stderr",
     "output_type": "stream",
     "text": [
      "  0%|          | 4/1875 [00:00<00:59, 31.30it/s]   "
     ]
    },
    {
     "name": "stdout",
     "output_type": "stream",
     "text": [
      "EPOCH 013: domain_loss=0.5153, source_accuracy=0.9398\n"
     ]
    },
    {
     "name": "stderr",
     "output_type": "stream",
     "text": [
      "  0%|          | 4/1875 [00:00<00:58, 32.04it/s]   "
     ]
    },
    {
     "name": "stdout",
     "output_type": "stream",
     "text": [
      "EPOCH 014: domain_loss=0.5193, source_accuracy=0.9376\n"
     ]
    },
    {
     "name": "stderr",
     "output_type": "stream",
     "text": [
      "  0%|          | 4/1875 [00:00<00:58, 31.93it/s]   "
     ]
    },
    {
     "name": "stdout",
     "output_type": "stream",
     "text": [
      "EPOCH 015: domain_loss=0.5139, source_accuracy=0.9396\n"
     ]
    },
    {
     "name": "stderr",
     "output_type": "stream",
     "text": [
      "  0%|          | 4/1875 [00:00<00:57, 32.40it/s]   "
     ]
    },
    {
     "name": "stdout",
     "output_type": "stream",
     "text": [
      "EPOCH 016: domain_loss=0.5162, source_accuracy=0.9393\n"
     ]
    },
    {
     "name": "stderr",
     "output_type": "stream",
     "text": [
      "  0%|          | 4/1875 [00:00<00:58, 31.88it/s]   "
     ]
    },
    {
     "name": "stdout",
     "output_type": "stream",
     "text": [
      "EPOCH 017: domain_loss=0.5163, source_accuracy=0.9366\n"
     ]
    },
    {
     "name": "stderr",
     "output_type": "stream",
     "text": [
      "  0%|          | 4/1875 [00:00<00:57, 32.43it/s]   "
     ]
    },
    {
     "name": "stdout",
     "output_type": "stream",
     "text": [
      "EPOCH 018: domain_loss=0.5169, source_accuracy=0.9397\n"
     ]
    },
    {
     "name": "stderr",
     "output_type": "stream",
     "text": [
      "  0%|          | 4/1875 [00:00<00:57, 32.78it/s]   "
     ]
    },
    {
     "name": "stdout",
     "output_type": "stream",
     "text": [
      "EPOCH 019: domain_loss=0.5181, source_accuracy=0.9408\n"
     ]
    },
    {
     "name": "stderr",
     "output_type": "stream",
     "text": [
      "  0%|          | 3/1875 [00:00<01:02, 29.80it/s]   "
     ]
    },
    {
     "name": "stdout",
     "output_type": "stream",
     "text": [
      "EPOCH 020: domain_loss=0.5168, source_accuracy=0.9414\n"
     ]
    },
    {
     "name": "stderr",
     "output_type": "stream",
     "text": [
      "  0%|          | 4/1875 [00:00<00:58, 31.90it/s]   "
     ]
    },
    {
     "name": "stdout",
     "output_type": "stream",
     "text": [
      "EPOCH 021: domain_loss=0.5164, source_accuracy=0.9401\n"
     ]
    },
    {
     "name": "stderr",
     "output_type": "stream",
     "text": [
      "  0%|          | 4/1875 [00:00<00:57, 32.26it/s]   "
     ]
    },
    {
     "name": "stdout",
     "output_type": "stream",
     "text": [
      "EPOCH 022: domain_loss=0.5155, source_accuracy=0.9407\n"
     ]
    },
    {
     "name": "stderr",
     "output_type": "stream",
     "text": [
      "  0%|          | 3/1875 [00:00<01:10, 26.41it/s]   "
     ]
    },
    {
     "name": "stdout",
     "output_type": "stream",
     "text": [
      "EPOCH 023: domain_loss=0.5159, source_accuracy=0.9426\n"
     ]
    },
    {
     "name": "stderr",
     "output_type": "stream",
     "text": [
      "  0%|          | 2/1875 [00:00<01:38, 19.10it/s]   "
     ]
    },
    {
     "name": "stdout",
     "output_type": "stream",
     "text": [
      "EPOCH 024: domain_loss=0.5163, source_accuracy=0.9417\n"
     ]
    },
    {
     "name": "stderr",
     "output_type": "stream",
     "text": [
      "  0%|          | 3/1875 [00:00<01:12, 25.78it/s]   "
     ]
    },
    {
     "name": "stdout",
     "output_type": "stream",
     "text": [
      "EPOCH 025: domain_loss=0.5157, source_accuracy=0.9409\n"
     ]
    },
    {
     "name": "stderr",
     "output_type": "stream",
     "text": [
      "  0%|          | 3/1875 [00:00<01:13, 25.40it/s]   "
     ]
    },
    {
     "name": "stdout",
     "output_type": "stream",
     "text": [
      "EPOCH 026: domain_loss=0.5183, source_accuracy=0.9423\n"
     ]
    },
    {
     "name": "stderr",
     "output_type": "stream",
     "text": [
      "  0%|          | 3/1875 [00:00<01:04, 29.10it/s]   "
     ]
    },
    {
     "name": "stdout",
     "output_type": "stream",
     "text": [
      "EPOCH 027: domain_loss=0.5168, source_accuracy=0.9423\n"
     ]
    },
    {
     "name": "stderr",
     "output_type": "stream",
     "text": [
      "  0%|          | 3/1875 [00:00<01:11, 26.05it/s]   "
     ]
    },
    {
     "name": "stdout",
     "output_type": "stream",
     "text": [
      "EPOCH 028: domain_loss=0.5167, source_accuracy=0.9427\n"
     ]
    },
    {
     "name": "stderr",
     "output_type": "stream",
     "text": [
      "  0%|          | 3/1875 [00:00<01:05, 28.67it/s]   "
     ]
    },
    {
     "name": "stdout",
     "output_type": "stream",
     "text": [
      "EPOCH 029: domain_loss=0.5137, source_accuracy=0.9437\n"
     ]
    },
    {
     "name": "stderr",
     "output_type": "stream",
     "text": [
      "  0%|          | 3/1875 [00:00<01:11, 26.25it/s]   "
     ]
    },
    {
     "name": "stdout",
     "output_type": "stream",
     "text": [
      "EPOCH 030: domain_loss=0.5146, source_accuracy=0.9445\n"
     ]
    },
    {
     "name": "stderr",
     "output_type": "stream",
     "text": [
      "  0%|          | 3/1875 [00:00<01:18, 23.80it/s]   "
     ]
    },
    {
     "name": "stdout",
     "output_type": "stream",
     "text": [
      "EPOCH 031: domain_loss=0.5185, source_accuracy=0.9429\n"
     ]
    },
    {
     "name": "stderr",
     "output_type": "stream",
     "text": [
      "  0%|          | 3/1875 [00:00<01:06, 28.09it/s]   "
     ]
    },
    {
     "name": "stdout",
     "output_type": "stream",
     "text": [
      "EPOCH 032: domain_loss=0.5188, source_accuracy=0.9449\n"
     ]
    },
    {
     "name": "stderr",
     "output_type": "stream",
     "text": [
      "  0%|          | 3/1875 [00:00<01:09, 26.79it/s]   "
     ]
    },
    {
     "name": "stdout",
     "output_type": "stream",
     "text": [
      "EPOCH 033: domain_loss=0.5191, source_accuracy=0.9420\n"
     ]
    },
    {
     "name": "stderr",
     "output_type": "stream",
     "text": [
      "  0%|          | 3/1875 [00:00<01:13, 25.32it/s]   "
     ]
    },
    {
     "name": "stdout",
     "output_type": "stream",
     "text": [
      "EPOCH 034: domain_loss=0.5180, source_accuracy=0.9433\n"
     ]
    },
    {
     "name": "stderr",
     "output_type": "stream",
     "text": [
      "  0%|          | 3/1875 [00:00<01:16, 24.35it/s]   "
     ]
    },
    {
     "name": "stdout",
     "output_type": "stream",
     "text": [
      "EPOCH 035: domain_loss=0.5180, source_accuracy=0.9425\n"
     ]
    },
    {
     "name": "stderr",
     "output_type": "stream",
     "text": [
      "  0%|          | 3/1875 [00:00<01:04, 28.82it/s]   "
     ]
    },
    {
     "name": "stdout",
     "output_type": "stream",
     "text": [
      "EPOCH 036: domain_loss=0.5196, source_accuracy=0.9426\n"
     ]
    },
    {
     "name": "stderr",
     "output_type": "stream",
     "text": [
      "  0%|          | 4/1875 [00:00<00:58, 32.14it/s]   "
     ]
    },
    {
     "name": "stdout",
     "output_type": "stream",
     "text": [
      "EPOCH 037: domain_loss=0.5186, source_accuracy=0.9431\n"
     ]
    },
    {
     "name": "stderr",
     "output_type": "stream",
     "text": [
      "  0%|          | 3/1875 [00:00<01:07, 27.55it/s]   "
     ]
    },
    {
     "name": "stdout",
     "output_type": "stream",
     "text": [
      "EPOCH 038: domain_loss=0.5171, source_accuracy=0.9450\n"
     ]
    },
    {
     "name": "stderr",
     "output_type": "stream",
     "text": [
      "  0%|          | 3/1875 [00:00<01:06, 27.96it/s]   "
     ]
    },
    {
     "name": "stdout",
     "output_type": "stream",
     "text": [
      "EPOCH 039: domain_loss=0.5188, source_accuracy=0.9429\n"
     ]
    },
    {
     "name": "stderr",
     "output_type": "stream",
     "text": [
      "  0%|          | 3/1875 [00:00<01:02, 29.84it/s]   "
     ]
    },
    {
     "name": "stdout",
     "output_type": "stream",
     "text": [
      "EPOCH 040: domain_loss=0.5175, source_accuracy=0.9441\n"
     ]
    },
    {
     "name": "stderr",
     "output_type": "stream",
     "text": [
      "  0%|          | 3/1875 [00:00<01:09, 26.94it/s]   "
     ]
    },
    {
     "name": "stdout",
     "output_type": "stream",
     "text": [
      "EPOCH 041: domain_loss=0.5164, source_accuracy=0.9447\n"
     ]
    },
    {
     "name": "stderr",
     "output_type": "stream",
     "text": [
      "  0%|          | 3/1875 [00:00<01:03, 29.50it/s]   "
     ]
    },
    {
     "name": "stdout",
     "output_type": "stream",
     "text": [
      "EPOCH 042: domain_loss=0.5202, source_accuracy=0.9433\n"
     ]
    },
    {
     "name": "stderr",
     "output_type": "stream",
     "text": [
      "  0%|          | 3/1875 [00:00<01:05, 28.45it/s]   "
     ]
    },
    {
     "name": "stdout",
     "output_type": "stream",
     "text": [
      "EPOCH 043: domain_loss=0.5227, source_accuracy=0.9431\n"
     ]
    },
    {
     "name": "stderr",
     "output_type": "stream",
     "text": [
      "  0%|          | 3/1875 [00:00<01:20, 23.13it/s]   "
     ]
    },
    {
     "name": "stdout",
     "output_type": "stream",
     "text": [
      "EPOCH 044: domain_loss=0.5183, source_accuracy=0.9455\n"
     ]
    },
    {
     "name": "stderr",
     "output_type": "stream",
     "text": [
      "  0%|          | 3/1875 [00:00<01:12, 25.74it/s]   "
     ]
    },
    {
     "name": "stdout",
     "output_type": "stream",
     "text": [
      "EPOCH 045: domain_loss=0.5207, source_accuracy=0.9431\n"
     ]
    },
    {
     "name": "stderr",
     "output_type": "stream",
     "text": [
      "  0%|          | 3/1875 [00:00<01:12, 25.83it/s]   "
     ]
    },
    {
     "name": "stdout",
     "output_type": "stream",
     "text": [
      "EPOCH 046: domain_loss=0.5199, source_accuracy=0.9426\n"
     ]
    },
    {
     "name": "stderr",
     "output_type": "stream",
     "text": [
      "  0%|          | 2/1875 [00:00<01:42, 18.22it/s]   "
     ]
    },
    {
     "name": "stdout",
     "output_type": "stream",
     "text": [
      "EPOCH 047: domain_loss=0.5200, source_accuracy=0.9457\n"
     ]
    },
    {
     "name": "stderr",
     "output_type": "stream",
     "text": [
      "  0%|          | 3/1875 [00:00<01:08, 27.51it/s]   "
     ]
    },
    {
     "name": "stdout",
     "output_type": "stream",
     "text": [
      "EPOCH 048: domain_loss=0.5225, source_accuracy=0.9448\n"
     ]
    },
    {
     "name": "stderr",
     "output_type": "stream",
     "text": [
      "  0%|          | 3/1875 [00:00<01:11, 26.14it/s]   "
     ]
    },
    {
     "name": "stdout",
     "output_type": "stream",
     "text": [
      "EPOCH 049: domain_loss=0.5217, source_accuracy=0.9438\n"
     ]
    },
    {
     "name": "stderr",
     "output_type": "stream",
     "text": [
      "                                                   \r"
     ]
    },
    {
     "name": "stdout",
     "output_type": "stream",
     "text": [
      "EPOCH 050: domain_loss=0.5245, source_accuracy=0.9442\n"
     ]
    }
   ],
   "source": [
    "for epoch in range(1, epochs+1):\n",
    "    batches = zip(source_loader, target_loader)\n",
    "    n_batches = min(len(source_loader), len(target_loader))\n",
    "\n",
    "    total_domain_loss = total_label_accuracy = 0\n",
    "    for (source_x, source_labels), (target_x, _) in tqdm(batches, leave=False, total=n_batches):\n",
    "            x = torch.cat([source_x, target_x])\n",
    "            x = x.to(device)\n",
    "            domain_y = torch.cat([torch.ones(source_x.shape[0]),\n",
    "                                  torch.zeros(target_x.shape[0])])\n",
    "            domain_y = domain_y.to(device)\n",
    "            label_y = source_labels.to(device)\n",
    "\n",
    "            features = feature_extractor(x).view(x.shape[0], -1)\n",
    "            domain_preds = discriminator(features).squeeze()\n",
    "            label_preds = clf(features[:source_x.shape[0]])\n",
    "\n",
    "            domain_loss = F.binary_cross_entropy_with_logits(domain_preds, domain_y)\n",
    "            label_loss = F.cross_entropy(label_preds, label_y)\n",
    "            loss = domain_loss + label_loss\n",
    "\n",
    "            optim.zero_grad()\n",
    "            loss.backward()\n",
    "            optim.step()\n",
    "\n",
    "            total_domain_loss += domain_loss.item()\n",
    "            total_label_accuracy += (label_preds.max(1)[1] == label_y).float().mean().item()\n",
    "\n",
    "    mean_loss = total_domain_loss / n_batches\n",
    "    mean_accuracy = total_label_accuracy / n_batches\n",
    "    tqdm.write(f'EPOCH {epoch:03d}: domain_loss={mean_loss:.4f}, '\n",
    "               f'source_accuracy={mean_accuracy:.4f}')\n",
    "\n",
    "    torch.save(model.state_dict(), 'domain_adaptation/revgrad_' + str(epoch) + '.pt')\n"
   ]
  },
  {
   "cell_type": "markdown",
   "metadata": {},
   "source": [
    "# Exercise\n",
    "\n",
    "- Assess the performance of the model through all epochs on source and target dataset. You should define new loaders with a suitable batch size. Pay attention to the case of the source dataset. Plot the accuracy on source and target domains as a function of the epoch, including the 0 epoch, before domain adaptation.\n",
    "\n",
    "- Visualize features before and after domain adaptation with T-SNE. Is it visible the feature adaptation?\n",
    "\n",
    "- Compute the ID of source and target features beore and  during the domain adaptation. What do you expect to see?"
   ]
  },
  {
   "cell_type": "markdown",
   "metadata": {},
   "source": [
    "# Assess performance"
   ]
  },
  {
   "cell_type": "code",
   "execution_count": 14,
   "metadata": {},
   "outputs": [],
   "source": [
    "nsamples=1000\n",
    "\n",
    "# this should be on test set\n",
    "sample_source_loader = torch.utils.data.DataLoader(\n",
    "        datasets.MNIST('../data', train=False, download=True,\n",
    "                       transform=transforms.Compose([\n",
    "                           GrayscaleToRgb(),\n",
    "                           transforms.ToTensor(),                                                \n",
    "                       ])),\n",
    "        batch_size=nsamples, shuffle=True, **kwargs)\n",
    "\n",
    "# this is (almost) indifferent\n",
    "sample_target_loader = torch.utils.data.DataLoader( \n",
    "    mnistm.MNISTM('../data', train=True, download=True,\n",
    "                       transform=transforms.Compose([\n",
    "                           transforms.ToTensor(),                           \n",
    "                       ])), \n",
    "    batch_size=nsamples, shuffle=True, **kwargs)"
   ]
  },
  {
   "cell_type": "code",
   "execution_count": 15,
   "metadata": {},
   "outputs": [],
   "source": [
    "imgs_source, labels_source = next(iter(sample_source_loader))\n",
    "imgs_target, labels_target = next(iter(sample_target_loader))"
   ]
  },
  {
   "cell_type": "code",
   "execution_count": 16,
   "metadata": {},
   "outputs": [],
   "source": [
    "source_acc = []\n",
    "target_acc = []\n",
    "\n",
    "for epoch in range(epochs + 1):\n",
    "    \n",
    "    if epoch == 0:\n",
    "        model.load_state_dict(torch.load('conv_for_domain_adaptation.pt'))\n",
    "    else:\n",
    "        model.load_state_dict(torch.load('./domain_adaptation/revgrad_' + str(epoch) + '.pt') )\n",
    "    model.eval()\n",
    "\n",
    "    out = model(imgs_source)\n",
    "    acc = (out.max(1)[1] == labels_source).float().mean().item()\n",
    "    source_acc.append(acc)\n",
    "    #print('Source accuracy: {}'.format(acc) )\n",
    "\n",
    "    out = model(imgs_target)\n",
    "    acc = (out.max(1)[1] == labels_target).float().mean().item()\n",
    "    #print('Target accuracy: {}'.format(acc) )\n",
    "    target_acc.append(acc)"
   ]
  },
  {
   "cell_type": "code",
   "execution_count": 18,
   "metadata": {},
   "outputs": [
    {
     "data": {
      "image/png": "[encoded data removed]",
      "text/plain": [
       "<Figure size 360x360 with 1 Axes>"
      ]
     },
     "metadata": {
      "needs_background": "light"
     },
     "output_type": "display_data"
    }
   ],
   "source": [
    "fig=plt.figure(figsize=(5,5))\n",
    "plt.plot(source_acc,'-b',label='source accuracy')\n",
    "plt.plot(target_acc,'-r',label='target accuracy')\n",
    "plt.xlabel('epoch')\n",
    "plt.ylabel('accuracy on test set')\n",
    "plt.legend()\n",
    "plt.show()"
   ]
  },
  {
   "cell_type": "markdown",
   "metadata": {},
   "source": [
    "# Visualization of features adaptation with T-SNE"
   ]
  },
  {
   "cell_type": "code",
   "execution_count": 19,
   "metadata": {},
   "outputs": [
    {
     "data": {
      "text/plain": [
       "Net(\n",
       "  (feature_extractor): Sequential(\n",
       "    (0): Conv2d(3, 10, kernel_size=(5, 5), stride=(1, 1))\n",
       "    (1): MaxPool2d(kernel_size=2, stride=2, padding=0, dilation=1, ceil_mode=False)\n",
       "    (2): ReLU()\n",
       "    (3): Conv2d(10, 20, kernel_size=(5, 5), stride=(1, 1))\n",
       "    (4): MaxPool2d(kernel_size=2, stride=2, padding=0, dilation=1, ceil_mode=False)\n",
       "    (5): Dropout2d(p=0.5)\n",
       "  )\n",
       "  (classifier): Sequential(\n",
       "    (0): Linear(in_features=320, out_features=50, bias=True)\n",
       "    (1): ReLU()\n",
       "    (2): Dropout(p=0.5)\n",
       "    (3): Linear(in_features=50, out_features=10, bias=True)\n",
       "  )\n",
       ")"
      ]
     },
     "execution_count": 19,
     "metadata": {},
     "output_type": "execute_result"
    }
   ],
   "source": [
    "model.load_state_dict(torch.load('conv_for_domain_adaptation.pt'))\n",
    "model.eval()"
   ]
  },
  {
   "cell_type": "code",
   "execution_count": 20,
   "metadata": {},
   "outputs": [],
   "source": [
    "Feats_source = []\n",
    "Feats_source.append( model.feature_extractor(imgs_source).view(nsamples,-1) )\n",
    "\n",
    "Feats_target = []\n",
    "Feats_target.append( model.feature_extractor(imgs_target).view(nsamples,-1) )"
   ]
  },
  {
   "cell_type": "code",
   "execution_count": 22,
   "metadata": {},
   "outputs": [
    {
     "data": {
      "text/plain": [
       "Net(\n",
       "  (feature_extractor): Sequential(\n",
       "    (0): Conv2d(3, 10, kernel_size=(5, 5), stride=(1, 1))\n",
       "    (1): MaxPool2d(kernel_size=2, stride=2, padding=0, dilation=1, ceil_mode=False)\n",
       "    (2): ReLU()\n",
       "    (3): Conv2d(10, 20, kernel_size=(5, 5), stride=(1, 1))\n",
       "    (4): MaxPool2d(kernel_size=2, stride=2, padding=0, dilation=1, ceil_mode=False)\n",
       "    (5): Dropout2d(p=0.5)\n",
       "  )\n",
       "  (classifier): Sequential(\n",
       "    (0): Linear(in_features=320, out_features=50, bias=True)\n",
       "    (1): ReLU()\n",
       "    (2): Dropout(p=0.5)\n",
       "    (3): Linear(in_features=50, out_features=10, bias=True)\n",
       "  )\n",
       ")"
      ]
     },
     "execution_count": 22,
     "metadata": {},
     "output_type": "execute_result"
    }
   ],
   "source": [
    "epoch = epochs\n",
    "model.load_state_dict(torch.load('./domain_adaptation/revgrad_' + str(epoch) + '.pt') )\n",
    "model.eval()"
   ]
  },
  {
   "cell_type": "code",
   "execution_count": 23,
   "metadata": {},
   "outputs": [],
   "source": [
    "Feats_source.append( model.feature_extractor(imgs_source).view(nsamples,-1) )\n",
    "Feats_target.append( model.feature_extractor(imgs_target).view(nsamples,-1) )"
   ]
  },
  {
   "cell_type": "code",
   "execution_count": null,
   "metadata": {},
   "outputs": [],
   "source": [
    "#for i in range(epochs):\n",
    "#    model.load_state_dict(torch.load('./domain_adaptation/revgrad_' + str(epoch) + '.pt') )\n",
    "#    model.eval()\n",
    "    \n",
    "#    Feats_source.append( model.feature_extractor(imgs_source).view(nsamples,-1) )\n",
    "#    Feats_target.append( model.feature_extractor(imgs_target).view(nsamples,-1) )"
   ]
  },
  {
   "cell_type": "code",
   "execution_count": 24,
   "metadata": {},
   "outputs": [],
   "source": [
    "from sklearn.manifold import TSNE"
   ]
  },
  {
   "cell_type": "code",
   "execution_count": 25,
   "metadata": {},
   "outputs": [],
   "source": [
    "TSNE_source = []\n",
    "TSNE_source.append(TSNE(n_components=2).fit_transform(Feats_source[0].detach().numpy()))\n",
    "\n",
    "TSNE_target = []\n",
    "TSNE_target.append(TSNE(n_components=2).fit_transform(Feats_target[0].detach().numpy()))"
   ]
  },
  {
   "cell_type": "code",
   "execution_count": 26,
   "metadata": {},
   "outputs": [],
   "source": [
    "TSNE_source.append(TSNE(n_components=2).fit_transform(Feats_source[1].detach().numpy()))\n",
    "TSNE_target.append(TSNE(n_components=2).fit_transform(Feats_target[1].detach().numpy()))"
   ]
  },
  {
   "cell_type": "code",
   "execution_count": 31,
   "metadata": {},
   "outputs": [
    {
     "data": {
      "image/png": "[encoded data removed]",
      "text/plain": [
       "<Figure size 720x360 with 2 Axes>"
      ]
     },
     "metadata": {},
     "output_type": "display_data"
    }
   ],
   "source": [
    "tags = ['source','target']\n",
    "fig=plt.figure(figsize=(10,5))\n",
    "for i in range(2):\n",
    "    plt.subplot(1,2,i+1)\n",
    "    X = TSNE_source[i]\n",
    "    Y = TSNE_target[i]\n",
    "    plt.plot(X[:,0], X[:,1], '.r', markersize=5, label=tags[0])\n",
    "    plt.plot(Y[:,0], Y[:,1], '.b', markersize=5, label=tags[1])\n",
    "    plt.xticks([])\n",
    "    plt.yticks([])\n",
    "    plt.legend()\n",
    "\n",
    "plt.show()"
   ]
  }
 ],
 "metadata": {
  "kernelspec": {
   "display_name": "Python 3",
   "language": "python",
   "name": "python3"
  },
  "language_info": {
   "codemirror_mode": {
    "name": "ipython",
    "version": 3
   },
   "file_extension": ".py",
   "mimetype": "text/x-python",
   "name": "python",
   "nbconvert_exporter": "python",
   "pygments_lexer": "ipython3",
   "version": "3.7.3"
  }
 },
 "nbformat": 4,
 "nbformat_minor": 2
}
