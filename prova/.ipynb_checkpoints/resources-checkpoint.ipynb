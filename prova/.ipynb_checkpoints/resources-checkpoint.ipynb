{
 "cells": [
  {
   "cell_type": "markdown",
   "metadata": {},
   "source": [
    "# Course description\n",
    "\n",
    "\n",
    "\n",
    "### Day 1\n",
    "\n",
    "- Introduction to NN\n",
    "\n",
    "   \n",
    "- Introduction to [PyTorch](https://pytorch.org/)\n",
    "    \n",
    "\n",
    "\n",
    "### Day 2\n",
    "\n",
    "### Day 3\n",
    "\n",
    "### Day 4\n",
    "\n",
    "\n",
    "### Day 5\n",
    "\n",
    "\n",
    "\n",
    "# General readings: books\n",
    "\n",
    "These are just starting point for exploring a huge domain: it's on you to find your way!\n",
    "\n",
    "- Michael Nielsen's [Neural networks and deep learning](http://neuralnetworksanddeeplearning.com/)\n",
    "- Ian Goodfellow et al. [Deep Learning](https://www.deeplearningbook.org/)\n",
    "\n",
    "\n",
    "# Great web resources\n",
    "\n",
    "- [Distill](https://distill.pub/)\n",
    "- [Colah's blog](http://colah.github.io/)\n",
    "\n",
    "\n",
    "# Video lectures\n",
    "\n",
    "- [Andrew Ng Stanford Course CS229 (2008)](https://www.youtube.com/watch?v=UzxYlbK2c7E&list=PLA89DCFA6ADACE599)\n",
    "\n",
    "\n",
    "\n",
    "\n"
   ]
  },
  {
   "cell_type": "code",
   "execution_count": null,
   "metadata": {},
   "outputs": [],
   "source": []
  }
 ],
 "metadata": {
  "kernelspec": {
   "display_name": "Python 3",
   "language": "python",
   "name": "python3"
  },
  "language_info": {
   "codemirror_mode": {
    "name": "ipython",
    "version": 3
   },
   "file_extension": ".py",
   "mimetype": "text/x-python",
   "name": "python",
   "nbconvert_exporter": "python",
   "pygments_lexer": "ipython3",
   "version": "3.7.3"
  }
 },
 "nbformat": 4,
 "nbformat_minor": 2
}
