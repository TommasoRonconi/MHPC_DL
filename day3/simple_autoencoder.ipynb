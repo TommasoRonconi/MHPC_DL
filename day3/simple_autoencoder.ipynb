{
 "cells": [
  {
   "cell_type": "markdown",
   "metadata": {},
   "source": [
    "# Simple autoencoder\n",
    "\n",
    "This is a very simple autoencoder based on a MLP architecture."
   ]
  },
  {
   "cell_type": "code",
   "execution_count": 17,
   "metadata": {
    "colab": {},
    "colab_type": "code",
    "id": "AdlZFNnsW504"
   },
   "outputs": [],
   "source": [
    "import os\n",
    "import sys\n",
    "\n",
    "import torch\n",
    "import torchvision\n",
    "from torch import nn\n",
    "from torch.autograd import Variable\n",
    "from torch.utils.data import DataLoader\n",
    "from torchvision import transforms\n",
    "from torchvision import datasets, transforms\n",
    "from torchsummary import summary\n",
    "from torchvision.utils import save_image\n",
    "\n",
    "import numpy as np\n",
    "from matplotlib import pyplot as plt"
   ]
  },
  {
   "cell_type": "code",
   "execution_count": 2,
   "metadata": {
    "colab": {},
    "colab_type": "code",
    "id": "qh6fNL42W508"
   },
   "outputs": [],
   "source": [
    "if not os.path.exists('./simple_autoencoder'):\n",
    "    os.mkdir('./simple_autoencoder')\n",
    "\n",
    "\n",
    "def to_img(x):\n",
    "    x = 0.5 * (x + 1)\n",
    "    x = x.clamp(0, 1)\n",
    "    x = x.view(x.size(0), 1, 28, 28)\n",
    "    return x"
   ]
  },
  {
   "cell_type": "code",
   "execution_count": 3,
   "metadata": {
    "colab": {},
    "colab_type": "code",
    "id": "alPs60C9W50-"
   },
   "outputs": [],
   "source": [
    "input_size= (1,784,)\n",
    "num_epochs = 10\n",
    "batch_size = 128\n",
    "learning_rate = 1e-3\n",
    "\n",
    "dataloader = torch.utils.data.DataLoader(\n",
    "        datasets.MNIST('../data', train=True, download=True,\n",
    "                       transform=transforms.Compose([\n",
    "                           transforms.ToTensor(),\n",
    "                           transforms.Normalize((0.1307,), (0.3081,))\n",
    "                       ])),\n",
    "        batch_size=batch_size, shuffle=True)"
   ]
  },
  {
   "cell_type": "code",
   "execution_count": 37,
   "metadata": {
    "colab": {},
    "colab_type": "code",
    "id": "oHd1IXfcW51C"
   },
   "outputs": [],
   "source": [
    "class autoencoder(nn.Module):\n",
    "    def __init__(self):\n",
    "        super(autoencoder, self).__init__()\n",
    "        self.encoder = nn.Sequential(\n",
    "            nn.Linear(28 * 28, 128),\n",
    "            nn.ReLU(True),\n",
    "            nn.Linear(128, 64),\n",
    "            nn.ReLU(True), \n",
    "            nn.Linear(64, 12) )\n",
    "            #nn.ReLU(True), \n",
    "            #nn.Linear(12, 3))\n",
    "        self.decoder = nn.Sequential(\n",
    "            #nn.Linear(3, 12),\n",
    "            #nn.ReLU(True),\n",
    "            nn.Linear(12, 64),\n",
    "            nn.ReLU(True),\n",
    "            nn.Linear(64, 128),\n",
    "            nn.ReLU(True), \n",
    "            nn.Linear(128, 28 * 28), \n",
    "            nn.Tanh())\n",
    "\n",
    "    def forward(self, x):\n",
    "        x = self.encoder(x)\n",
    "        x = self.decoder(x)\n",
    "        return x "
   ]
  },
  {
   "cell_type": "code",
   "execution_count": 12,
   "metadata": {
    "colab": {},
    "colab_type": "code",
    "id": "RhmTnFlaW51E"
   },
   "outputs": [],
   "source": [
    "model = autoencoder()\n",
    "criterion = nn.MSELoss()\n",
    "optimizer = torch.optim.Adam(model.parameters(), lr=learning_rate, weight_decay=1e-5)"
   ]
  },
  {
   "cell_type": "code",
   "execution_count": 13,
   "metadata": {},
   "outputs": [
    {
     "name": "stdout",
     "output_type": "stream",
     "text": [
      "----------------------------------------------------------------\n",
      "        Layer (type)               Output Shape         Param #\n",
      "================================================================\n",
      "            Linear-1               [-1, 1, 128]         100,480\n",
      "              ReLU-2               [-1, 1, 128]               0\n",
      "            Linear-3                [-1, 1, 64]           8,256\n",
      "              ReLU-4                [-1, 1, 64]               0\n",
      "            Linear-5                [-1, 1, 12]             780\n",
      "            Linear-6                [-1, 1, 64]             832\n",
      "              ReLU-7                [-1, 1, 64]               0\n",
      "            Linear-8               [-1, 1, 128]           8,320\n",
      "              ReLU-9               [-1, 1, 128]               0\n",
      "           Linear-10               [-1, 1, 784]         101,136\n",
      "             Tanh-11               [-1, 1, 784]               0\n",
      "================================================================\n",
      "Total params: 219,804\n",
      "Trainable params: 219,804\n",
      "Non-trainable params: 0\n",
      "----------------------------------------------------------------\n",
      "Input size (MB): 0.00\n",
      "Forward/backward pass size (MB): 0.02\n",
      "Params size (MB): 0.84\n",
      "Estimated Total Size (MB): 0.86\n",
      "----------------------------------------------------------------\n"
     ]
    }
   ],
   "source": [
    "summary(model, input_size)"
   ]
  },
  {
   "cell_type": "code",
   "execution_count": 14,
   "metadata": {
    "colab": {
     "base_uri": "https://localhost:8080/",
     "height": 185
    },
    "colab_type": "code",
    "executionInfo": {
     "elapsed": 186399,
     "status": "ok",
     "timestamp": 1545155986450,
     "user": {
      "displayName": "Alessio Ansuini",
      "photoUrl": "https://lh3.googleusercontent.com/-bHqr9NW5E8I/AAAAAAAAAAI/AAAAAAAAAYQ/rYNtzP3cNQY/s64/photo.jpg",
      "userId": "14930581313013086601"
     },
     "user_tz": -60
    },
    "id": "EZfzRbBXW51H",
    "outputId": "fe4226fe-e67d-43ad-fb3f-2531493067fa"
   },
   "outputs": [
    {
     "name": "stdout",
     "output_type": "stream",
     "text": [
      "epoch [1/10], loss:0.4677\n",
      "epoch [2/10], loss:0.4469\n",
      "epoch [3/10], loss:0.4450\n",
      "epoch [4/10], loss:0.4255\n",
      "epoch [5/10], loss:0.4288\n",
      "epoch [6/10], loss:0.4124\n",
      "epoch [7/10], loss:0.4491\n",
      "epoch [8/10], loss:0.4028\n",
      "epoch [9/10], loss:0.4005\n",
      "epoch [10/10], loss:0.4067\n"
     ]
    }
   ],
   "source": [
    "Loss = []\n",
    "for epoch in range(num_epochs):\n",
    "    for data in dataloader:\n",
    "        img, _ = data\n",
    "        img = img.view(img.size(0), -1)\n",
    "        img = Variable(img)\n",
    "        \n",
    "        output = model(img)\n",
    "        loss = criterion(output, img)\n",
    "        \n",
    "        optimizer.zero_grad()\n",
    "        loss.backward()\n",
    "        optimizer.step()\n",
    "    \n",
    "    Loss.append(loss.item())\n",
    "    print('epoch [{}/{}], loss:{:.4f}'\n",
    "          .format(epoch + 1, num_epochs, loss.item()))\n",
    "    if epoch % 10 == 0:\n",
    "        pic = to_img(output.data)\n",
    "        save_image(pic, './simple_autoencoder/image_{}.png'.format(epoch))\n",
    "\n",
    "torch.save(model.state_dict(), './simple_autoencoder/simple_autoencoder.pt')"
   ]
  },
  {
   "cell_type": "code",
   "execution_count": 15,
   "metadata": {},
   "outputs": [
    {
     "data": {
      "text/plain": [
       "autoencoder(\n",
       "  (encoder): Sequential(\n",
       "    (0): Linear(in_features=784, out_features=128, bias=True)\n",
       "    (1): ReLU(inplace)\n",
       "    (2): Linear(in_features=128, out_features=64, bias=True)\n",
       "    (3): ReLU(inplace)\n",
       "    (4): Linear(in_features=64, out_features=12, bias=True)\n",
       "  )\n",
       "  (decoder): Sequential(\n",
       "    (0): Linear(in_features=12, out_features=64, bias=True)\n",
       "    (1): ReLU(inplace)\n",
       "    (2): Linear(in_features=64, out_features=128, bias=True)\n",
       "    (3): ReLU(inplace)\n",
       "    (4): Linear(in_features=128, out_features=784, bias=True)\n",
       "    (5): Tanh()\n",
       "  )\n",
       ")"
      ]
     },
     "execution_count": 15,
     "metadata": {},
     "output_type": "execute_result"
    }
   ],
   "source": [
    "model.load_state_dict(torch.load('./simple_autoencoder/simple_autoencoder.pt'))\n",
    "model.eval()"
   ]
  },
  {
   "cell_type": "code",
   "execution_count": 21,
   "metadata": {},
   "outputs": [
    {
     "data": {
      "image/png": "[encoded data removed]",
      "text/plain": [
       "<Figure size 432x288 with 1 Axes>"
      ]
     },
     "metadata": {
      "needs_background": "light"
     },
     "output_type": "display_data"
    }
   ],
   "source": [
    "x = torch.randn(1,784)\n",
    "plt.imshow(np.reshape(x,(28,28)))\n",
    "plt.show()"
   ]
  },
  {
   "cell_type": "code",
   "execution_count": 22,
   "metadata": {},
   "outputs": [],
   "source": [
    "output = model(x).detach().numpy()"
   ]
  },
  {
   "cell_type": "markdown",
   "metadata": {},
   "source": [
    "# Question\n",
    "\n",
    "- Guess what the output will look like.\n",
    "- Can you imagine a theoretical explanation?\n",
    "- Can you imagine how to test for it?"
   ]
  },
  {
   "cell_type": "code",
   "execution_count": 23,
   "metadata": {},
   "outputs": [
    {
     "data": {
      "image/png": "[encoded data removed]",
      "text/plain": [
       "<Figure size 432x288 with 1 Axes>"
      ]
     },
     "metadata": {
      "needs_background": "light"
     },
     "output_type": "display_data"
    }
   ],
   "source": [
    "plt.imshow(np.reshape(output,(28,28)))\n",
    "plt.show()"
   ]
  },
  {
   "cell_type": "code",
   "execution_count": 49,
   "metadata": {},
   "outputs": [],
   "source": [
    "from matplotlib import pyplot as plt\n",
    "plt.plot(Loss,'-bo')\n",
    "plt.show()"
   ]
  },
  {
   "cell_type": "markdown",
   "metadata": {},
   "source": [
    "# Exercise\n",
    "\n",
    "Discussion in class of the points first.\n",
    "\n",
    "- Why the loss in this model does not change much? Inspect the samples saved in './simple_autoencoder', they are terrible.\n",
    "- How can this model be improved? Experiment on this a little bit. (Maybe you want to change the architecure a little bit?)\n",
    "- Extract the code (a,b) of two images of your choice\n",
    "- Decode a generic code given as input, in particular the codes a,b. Visualize the results.\n",
    "- Transverse the *latent space* of the bottleneck layer from a to b.\n",
    "  More precisely define a sequence of codes\n",
    "  \n",
    "$$\n",
    "c = \\lambda b + (1-\\lambda)a, \\;\\;\\; \\lambda = [0,\\dots,1]\n",
    "$$\n",
    "\n",
    "  and see for each one the decoded images (do it in N steps, where N is your choice)."
   ]
  },
  {
   "cell_type": "code",
   "execution_count": 29,
   "metadata": {},
   "outputs": [],
   "source": [
    "inputs,labels = next(iter(dataloader))\n",
    "output = model(inputs.view(inputs.shape[0],-1)).detach().numpy()"
   ]
  },
  {
   "cell_type": "code",
   "execution_count": null,
   "metadata": {},
   "outputs": [],
   "source": []
  },
  {
   "cell_type": "code",
   "execution_count": 30,
   "metadata": {},
   "outputs": [
    {
     "data": {
      "text/plain": [
       "torch.Size([128, 1, 28, 28])"
      ]
     },
     "execution_count": 30,
     "metadata": {},
     "output_type": "execute_result"
    }
   ],
   "source": [
    "inputs.shape"
   ]
  },
  {
   "cell_type": "code",
   "execution_count": 36,
   "metadata": {},
   "outputs": [
    {
     "data": {
      "image/png": "[encoded data removed]",
      "text/plain": [
       "<Figure size 432x288 with 2 Axes>"
      ]
     },
     "metadata": {
      "needs_background": "light"
     },
     "output_type": "display_data"
    }
   ],
   "source": [
    "idx=0\n",
    "plt.subplot(121)\n",
    "plt.imshow(np.reshape(inputs[idx],(28,28)))\n",
    "plt.subplot(122)\n",
    "plt.imshow(np.reshape(output[idx],(28,28)))\n",
    "plt.show()"
   ]
  },
  {
   "cell_type": "code",
   "execution_count": null,
   "metadata": {},
   "outputs": [],
   "source": []
  },
  {
   "cell_type": "code",
   "execution_count": null,
   "metadata": {},
   "outputs": [],
   "source": []
  }
 ],
 "metadata": {
  "accelerator": "GPU",
  "colab": {
   "name": "simple_autoencoder.ipynb",
   "provenance": [],
   "version": "0.3.2"
  },
  "kernelspec": {
   "display_name": "Python 3",
   "language": "python",
   "name": "python3"
  },
  "language_info": {
   "codemirror_mode": {
    "name": "ipython",
    "version": 3
   },
   "file_extension": ".py",
   "mimetype": "text/x-python",
   "name": "python",
   "nbconvert_exporter": "python",
   "pygments_lexer": "ipython3",
   "version": "3.7.1"
  }
 },
 "nbformat": 4,
 "nbformat_minor": 1
}
